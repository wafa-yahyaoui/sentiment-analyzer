{
 "cells": [
  {
   "cell_type": "code",
   "execution_count": 19,
   "metadata": {
    "collapsed": true
   },
   "outputs": [],
   "source": [
    "import urllib3\n",
    "import facebook\n",
    "import requests\n",
    "import csv\n",
    "import tweepy\n",
    "from tweepy import OAuthHandler\n",
    "import twitter"
   ]
  },
  {
   "cell_type": "code",
   "execution_count": 20,
   "metadata": {
    "collapsed": true
   },
   "outputs": [],
   "source": [
    "token = \"EAABZBwxwxyXMBAPuUvf6wqDVdJhXcQ5tWZCv42S3UFfZAao935GEou3bFKOPbY2YjOok3r3N6QseA1A1h5OmKJnvizQGWe1DqyBGH494NoGhwxjDD7bRrPTEocSLw2uN1RpPk7TZB5QkQtxJwtbdvQn6Nzw6ZAWDZCD5Li2XCd8QZDZD\"\n",
    "graph = facebook.GraphAPI(access_token=token, version = 2.7)\n",
    "pagesdata = requests.get(\"https://graph.facebook.com/me/accounts?access_token=\"+token)\n",
    "page_id = \"298166859034\""
   ]
  },
  {
   "cell_type": "code",
   "execution_count": 21,
   "metadata": {
    "collapsed": true
   },
   "outputs": [],
   "source": [
    "posts_on_page = requests.get(\"https://graph.facebook.com/\"+page_id+\"/posts?access_token=\"+token)\n",
    "posts_data = (posts_on_page.json())\n",
    "comments=[]\n",
    "for x in posts_data['data']:\n",
    "    post_id = x['id']\n",
    "    reactions_on_post = requests.get(\"https://graph.facebook.com/\"+post_id+\"/comments?access_token=\"+token)\n",
    "    reactions_data = reactions_on_post.json() \n",
    "    for element in reactions_data['data']:\n",
    "        comments.append(element['message'])\n",
    "#print(comments)"
   ]
  },
  {
   "cell_type": "code",
   "execution_count": 22,
   "metadata": {
    "collapsed": true
   },
   "outputs": [],
   "source": [
    "posts_on_page = requests.get(\"https://graph.facebook.com/\"+page_id+\"/posts?access_token=\"+token)\n",
    "posts_data = (posts_on_page.json())\n",
    "comments=[]\n",
    "date=[]\n",
    "liste=[]\n",
    "sousliste=[]\n",
    "for x in posts_data['data']:\n",
    "    post_id = x['id']\n",
    "    reactions_on_post = requests.get(\"https://graph.facebook.com/\"+post_id+\"/comments?access_token=\"+token)\n",
    "    reactions_data = reactions_on_post.json() \n",
    "    for element in reactions_data['data']:\n",
    "        sousliste.append(element['message'])\n",
    "        sousliste.append(\"positive\")\n",
    "        sousliste.append(element['created_time'])\n",
    "        sousliste.append(post_id)\n",
    "        liste.extend([sousliste])\n",
    "        sousliste=[]\n",
    "#print(liste)"
   ]
  },
  {
   "cell_type": "code",
   "execution_count": 23,
   "metadata": {
    "collapsed": true
   },
   "outputs": [],
   "source": [
    "import nltk.classify.util\n",
    "from nltk.classify import NaiveBayesClassifier\n",
    "from nltk.corpus import names\n",
    " \n",
    "def word_feats(words):\n",
    "    return dict([(word, True) for word in words])\n",
    " \n",
    "positive_vocab = [ 'رابحين', 'farna','mahlekom' 'fantastic', 'Mabrouk', 'good', 'nice', 'great', ':)' ,'5eir','😘',' bon','😍','satisfied',' Keep it','❤','💕','merci','yo','برافو ','امشيختنا' ,'امربحتنا ','امدللتنا','مبروووك']\n",
    "negative_vocab = [ 'قديمة', 'تكذبو ','الخساره', 'hate','سرقتوه' ':(','kedb ' ,'sirka','Mahouch','عيب','😥','😢','التفاهاات','😭','💔 ','استهتار','jboura','inutile','problème','السرقة','tay7a']\n",
    "\n",
    " \n",
    "positive_features = [(word_feats(pos), 'pos') for pos in positive_vocab]\n",
    "negative_features = [(word_feats(neg), 'neg') for neg in negative_vocab]\n",
    "#neutral_features = []\n",
    "\n",
    " \n",
    "train_set = negative_features + positive_features # + neutral_features\n",
    " \n",
    "classifier = NaiveBayesClassifier.train(train_set) \n",
    "\n",
    "posts_on_page = requests.get(\"https://graph.facebook.com/\"+page_id+\"/posts?access_token=\"+token)\n",
    "posts_data = (posts_on_page.json())\n",
    "comments=[]\n",
    "liste =[]\n",
    "for x in posts_data['data']:\n",
    "    post_id = x['id']\n",
    "    reactions_on_post = requests.get(\"https://graph.facebook.com/\"+post_id+\"/comments?access_token=\"+token)\n",
    "    reactions_data = reactions_on_post.json() \n",
    "    for element in reactions_data['data']:\n",
    "        comments.append(element['message'])\n",
    "#print(liste)\n",
    "s_liste_pos=[]\n",
    "liste_pos=[]\n",
    "s_liste_neg=[]\n",
    "liste_neg=[]\n",
    "for i in comments:\n",
    "    neg = 0\n",
    "    pos = 0\n",
    "    #print (i)\n",
    "    i = i.lower()\n",
    "    words = i.split(' ')\n",
    "    for word in words:\n",
    "        classResult = classifier.classify( word_feats(word))\n",
    "        if classResult == 'neg':\n",
    "            neg = neg + 1\n",
    "        if classResult == 'pos':\n",
    "            pos = pos + 1\n",
    "        p = float(pos)/len(words)\n",
    "        n = float(neg)/len(words)\n",
    " \n",
    "    #print('Positive: ' + str(p))\n",
    "    #print('Negative: ' + str(n))\n",
    "    "
   ]
  },
  {
   "cell_type": "code",
   "execution_count": 24,
   "metadata": {
    "collapsed": true,
    "scrolled": false
   },
   "outputs": [],
   "source": [
    "import nltk.classify.util\n",
    "from nltk.classify import NaiveBayesClassifier\n",
    "from nltk.corpus import names\n",
    " \n",
    "def word_feats(words):\n",
    "    return dict([(word, True) for word in words])\n",
    " \n",
    "positive_vocab = [ 'رابحين', 'farna','mahlekom' 'fantastic', 'Mabrouk', 'good', 'nice', 'great', ':)' ,'5eir','😘',' bon','😍','satisfied',' Keep it','❤','💕','merci','yo','برافو ','امشيختنا' ,'امربحتنا ','امدللتنا','مبروووك']\n",
    "negative_vocab = [ 'قديمة', 'تكذبو ','الخساره', 'hate', ':(','kedb ' ,'sirka','Mahouch','عيب','😥','😢','التفاهاات','😭','💔 ','استهتار','jboura','inutile','problème','السرقة','tay7a']\n",
    "\n",
    " \n",
    "positive_features = [(word_feats(pos), 'pos') for pos in positive_vocab]\n",
    "negative_features = [(word_feats(neg), 'neg') for neg in negative_vocab]\n",
    "#neutral_features = []\n",
    "\n",
    " \n",
    "train_set = negative_features + positive_features # + neutral_features\n",
    " \n",
    "classifier = NaiveBayesClassifier.train(train_set) \n",
    "\n",
    "posts_on_page = requests.get(\"https://graph.facebook.com/\"+page_id+\"/posts?access_token=\"+token)\n",
    "posts_data = (posts_on_page.json())\n",
    "comments=[]\n",
    "liste =[]\n",
    "for x in posts_data['data']:\n",
    "    post_id = x['id']\n",
    "    reactions_on_post = requests.get(\"https://graph.facebook.com/\"+post_id+\"/comments?access_token=\"+token)\n",
    "    reactions_data = reactions_on_post.json() \n",
    "    for element in reactions_data['data']:\n",
    "        comments.append(element['message'])\n",
    "#print(liste)\n",
    "s_liste_pos=[]\n",
    "liste_pos=[]\n",
    "s_liste_neg=[]\n",
    "liste_neg=[]\n",
    "for i in comments:\n",
    "    neg = 0\n",
    "    pos = 0\n",
    "    #print (i)\n",
    "    i = i.lower()\n",
    "    words = i.split(' ')\n",
    "    for word in words:\n",
    "        s_liste_pos=[]\n",
    "        s_liste_neg=[]\n",
    "        classResult = classifier.classify( word_feats(word))\n",
    "        if classResult == 'neg':\n",
    "            neg = neg + 1\n",
    "        if classResult == 'pos':\n",
    "            pos = pos + 1\n",
    "        p = float(pos)/len(words)\n",
    "        n = float(neg)/len(words) \n",
    "    #print(p)\n",
    "    #print(n)\n",
    "    if(p>n):\n",
    "        s_liste_pos.append(i)\n",
    "        s_liste_pos.append(\"positive\")\n",
    "        liste_pos.extend([s_liste_pos])\n",
    "    if(p<n):\n",
    "        s_liste_neg.append(i)\n",
    "        s_liste_neg.append(\"negative\")\n",
    "        liste_neg.extend([s_liste_neg]) \n",
    "#print(liste_pos)\n",
    "#print(liste_neg)"
   ]
  },
  {
   "cell_type": "code",
   "execution_count": 7,
   "metadata": {
    "collapsed": true
   },
   "outputs": [],
   "source": [
    "with open(\"data/sentiment_category_pos.csv\", \"w\", encoding='utf-8') as f_write:\n",
    "    writer = csv.writer(f_write)\n",
    "    for row in liste_pos:\n",
    "        writer.writerow(row)"
   ]
  },
  {
   "cell_type": "code",
   "execution_count": 8,
   "metadata": {
    "collapsed": true
   },
   "outputs": [],
   "source": [
    "with open(\"data/sentiment_category_neg.csv\", \"w\", encoding='UTF-8') as f_write:\n",
    "    writer = csv.writer(f_write)\n",
    "    for row in liste_neg:\n",
    "        writer.writerow(row)"
   ]
  },
  {
   "cell_type": "code",
   "execution_count": 52,
   "metadata": {
    "collapsed": true
   },
   "outputs": [],
   "source": [
    "import nltk.classify.util\n",
    "from nltk.classify import NaiveBayesClassifier\n",
    "from nltk.corpus import names\n",
    " \n",
    "def word_feats(words):\n",
    "    return dict([(word, True) for word in words])\n",
    " \n",
    "positive_vocab = [ 'رابحين', 'farna','mahlekom' 'fantastic', 'Mabrouk', 'good', 'nice', 'great', ':)' ,'5eir','😘',' bon','😍','satisfied',' Keep it','❤','💕','merci','yo','برافو ','امشيختنا' ,'امربحتنا ','امدللتنا','مبروووك']\n",
    "negative_vocab = [ 'قديمة', 'تكذبو ','الخساره', 'hate', ':(','kedb ' ,'sirka','Mahouch','عيب','😥','😢','التفاهاات','😭','💔 ','استهتار','jboura','inutile','problème','السرقة','tay7a']\n",
    "\n",
    " \n",
    "positive_features = [(word_feats(pos), 'pos') for pos in positive_vocab]\n",
    "negative_features = [(word_feats(neg), 'neg') for neg in negative_vocab]\n",
    "#neutral_features = []\n",
    "\n",
    " \n",
    "train_set = negative_features + positive_features # + neutral_features\n",
    " \n",
    "classifier = NaiveBayesClassifier.train(train_set) \n",
    "\n",
    "posts_on_page = requests.get(\"https://graph.facebook.com/\"+page_id+\"/posts?access_token=\"+token)\n",
    "posts_data = (posts_on_page.json())\n",
    "comments=[]\n",
    "liste =[]\n",
    "for x in posts_data['data']:\n",
    "    post_id = x['id']\n",
    "    reactions_on_post = requests.get(\"https://graph.facebook.com/\"+post_id+\"/comments?access_token=\"+token)\n",
    "    reactions_data = reactions_on_post.json() \n",
    "    for element in reactions_data['data']:\n",
    "        comments.append(element['message'])\n",
    "#print(liste)\n",
    "s_liste=[]\n",
    "liste1 = []\n",
    "for i in comments:\n",
    "    neg = 0\n",
    "    pos = 0\n",
    "    #print (i)\n",
    "    i = i.lower()\n",
    "    words = i.split(' ')\n",
    "    for word in words:\n",
    "        s_liste=[]\n",
    "        classResult = classifier.classify( word_feats(word))\n",
    "        if classResult == 'neg':\n",
    "            neg = neg + 1\n",
    "        if classResult == 'pos':\n",
    "            pos = pos + 1\n",
    "        p = float(pos)/len(words)\n",
    "        n = float(neg)/len(words) \n",
    "    s_liste.append(i)\n",
    "    if(p>n or p==n):\n",
    "        s_liste.append(\"positive\")\n",
    "        liste1.extend([s_liste])\n",
    "    if(p<n):\n",
    "        s_liste.append(\"negative\")\n",
    "        liste1.extend([s_liste]) \n",
    "#print(liste1)           "
   ]
  },
  {
   "cell_type": "code",
   "execution_count": 53,
   "metadata": {
    "collapsed": true
   },
   "outputs": [],
   "source": [
    "posts_on_page = requests.get(\"https://graph.facebook.com/\"+page_id+\"/posts?access_token=\"+token)\n",
    "posts_data = (posts_on_page.json())\n",
    "comments=[]\n",
    "date=[]\n",
    "liste2=[]\n",
    "sousliste=[]\n",
    "for x in posts_data['data']:\n",
    "    post_id = x['id']\n",
    "    reactions_on_post = requests.get(\"https://graph.facebook.com/\"+post_id+\"/comments?access_token=\"+token)\n",
    "    reactions_data = reactions_on_post.json() \n",
    "    for element in reactions_data['data']:\n",
    "        #sousliste.append(element['message'])\n",
    "        #sousliste.append(\"positive\")\n",
    "        sousliste.append(element['created_time'])\n",
    "        sousliste.append(\"https://www.facebook.com/\"+post_id)\n",
    "        liste2.extend([sousliste])\n",
    "        sousliste=[]\n",
    "#print(liste2)"
   ]
  },
  {
   "cell_type": "code",
   "execution_count": 34,
   "metadata": {},
   "outputs": [
    {
     "data": {
      "text/plain": [
       "568"
      ]
     },
     "execution_count": 34,
     "metadata": {},
     "output_type": "execute_result"
    }
   ],
   "source": [
    "len(liste1)"
   ]
  },
  {
   "cell_type": "code",
   "execution_count": 44,
   "metadata": {},
   "outputs": [
    {
     "data": {
      "text/plain": [
       "300"
      ]
     },
     "execution_count": 44,
     "metadata": {},
     "output_type": "execute_result"
    }
   ],
   "source": [
    "l2 = liste2[:-268]\n",
    "len(l2)"
   ]
  },
  {
   "cell_type": "code",
   "execution_count": 45,
   "metadata": {},
   "outputs": [
    {
     "data": {
      "text/plain": [
       "300"
      ]
     },
     "execution_count": 45,
     "metadata": {},
     "output_type": "execute_result"
    }
   ],
   "source": [
    "l1 = liste1[:-268]\n",
    "len(l1)"
   ]
  },
  {
   "cell_type": "code",
   "execution_count": 59,
   "metadata": {},
   "outputs": [
    {
     "data": {
      "text/plain": [
       "149"
      ]
     },
     "execution_count": 59,
     "metadata": {},
     "output_type": "execute_result"
    }
   ],
   "source": [
    "l1 = liste1[:-420]\n",
    "l2 = liste2[:-420]\n",
    "l3 = [list(i) for i in zip(l1, l2)]\n",
    "len(l3)"
   ]
  },
  {
   "cell_type": "code",
   "execution_count": null,
   "metadata": {},
   "outputs": [],
   "source": []
  },
  {
   "cell_type": "code",
   "execution_count": 60,
   "metadata": {},
   "outputs": [],
   "source": [
    "\n",
    "\n",
    "for i in range(0,len(l1)):\n",
    "    l1[i].extend(l2[i])\n",
    "    \n",
    "with open(\"data1/four-column1.csv\", \"w\", encoding='UTF-8') as f_write:\n",
    "    writer = csv.writer(f_write)\n",
    "    for row in l1:\n",
    "        writer.writerow(row)  "
   ]
  },
  {
   "cell_type": "code",
   "execution_count": 72,
   "metadata": {},
   "outputs": [],
   "source": [
    "l = []\n",
    "file=open(\"data/four-column.csv\",\"r\", encoding='UTF-8')\n",
    "test=csv.reader(file)\n",
    "for row in test:\n",
    "    if(row!=[]):\n",
    "        l.append(row)\n",
    "#print(l)"
   ]
  },
  {
   "cell_type": "code",
   "execution_count": 76,
   "metadata": {},
   "outputs": [],
   "source": [
    "a = l[:-420]\n",
    "len(a)\n",
    "with open(\"data1/four-column2.csv\", \"w\", encoding='UTF-8') as f_write:\n",
    "    writer = csv.writer(f_write)\n",
    "    for row in a:\n",
    "        writer.writerow(row)  "
   ]
  },
  {
   "cell_type": "code",
   "execution_count": 18,
   "metadata": {
    "collapsed": true
   },
   "outputs": [],
   "source": [
    "##################################################################################"
   ]
  },
  {
   "cell_type": "code",
   "execution_count": 17,
   "metadata": {},
   "outputs": [
    {
     "name": "stdout",
     "output_type": "stream",
     "text": [
      "[\"@OrangeTN Moi je l'attends pas\", \"Déploiement #4G 📶📲 début 2018 : \\n @_TunisieTelecom  ❤️ allume plus que @ooredootn et @OrangeTN  \\nbravo à toute l'équipe TT ✌️🖐️\", \"@OrangeTN bonjour j ai plus que 1d  de solde et je ne peux pas faire d appel \\nMon solde est valide . Et ce n'est pa… https://t.co/qGxJAL94ze\", '@OrangeTN 😢😢😢', 'RT @OrangeTN: و انتوما، شنية تختارو؟ 😎🎮🖥 https://t.co/8s2CHjOfLj', '@OrangeTN Xbox1', '@OrangeTN  https://t.co/C2llh6ltaB', 'RT @ou_wwer: يا #توانسة تعملو روتويت و كمنتار تحت التويته متاعي \\nخلينا ندللو على @OrangeTN باش تعطينا 1000 او 2000 points نعديوهم انترنات 💟…', '@OrangeTN @ou_wwer انترنات هانا نستناو', '@ou_wwer @OrangeTN افرح بينا ب 3000 نقطة و مزيد من التألق', '@OrangeTN Pc', '@OrangeTN Playstation', 'RT @OrangeTN: و انتوما، شنية تختارو؟ 😎🎮🖥 https://t.co/8s2CHjOfLj', '@OrangeTN bonne année 2018', '@OrangeTN PC gamer https://t.co/liJaS4Ix0H', '@anonmrmg @YassoZawchi @OrangeTN بالعكس orange non', 'RT @Rabouha13: كمشتركة وفية لاحسن مشغل في تونس @OrangeTN نحبو ندللوا عليكم وتودونا ب1000 نقطة كهدية راس السنة. 😘😘\\n#تونس \\nروتويت يا جماعه و…', '@OrangeTN That one which is capable of running a game at 120 fps in 4K , you get it right , PC 👌😗', '@ou_wwer @YassoZawchi @OrangeTN الكلها تسرق خاصة في الكونكسيون ... لا امل فاهم', 'RT @OrangeTN: و انتوما، شنية تختارو؟ 😎🎮🖥 https://t.co/8s2CHjOfLj', 'RT @ou_wwer: يا #توانسة تعملو روتويت و كمنتار تحت التويته متاعي \\nخلينا ندللو على @OrangeTN باش تعطينا 1000 او 2000 points نعديوهم انترنات 💟…', '@OrangeTN 💪😎✌1', '@OrangeTN Merci @OrangeTN', '@OrangeTN @ro_ua22 ازاي يا جدع', '@Mehdii_Na @OrangeTN Bye bye rou7i talgui el 5ir', '@Rabouha13 @OrangeTN كل سنه وانتو طيبين سنه جميله وسعيده علي الجميع رب يحقق كل امنياتكم وتكونوا دايما بخير🌹🌿🍁', 'RT @WannesKawther: شعب متضامن في كل شيء حمدالله \\nمطلب مشترك 😁 \\n@OrangeTN https://t.co/R03RVUtuCy', '@yoollaa7 @OrangeTN Oui و اورونج زادة عندها الخاصية هاكي ولكن نحبوها تعطينا من عندها 1000 او 2000 نقطة بمناسبة العام الجديد', 'RT @OrangeTN: و انتوما، شنية تختارو؟ 😎🎮🖥 https://t.co/8s2CHjOfLj', '@OrangeTN Pc', 'RT @OrangeTN: و انتوما، شنية تختارو؟ 😎🎮🖥 https://t.co/8s2CHjOfLj', '@OrangeTN نديرك أمور سافي بليزير cc @hethamw', 'RT @OrangeTN: و انتوما، شنية تختارو؟ 😎🎮🖥 https://t.co/8s2CHjOfLj', 'RT @OrangeTN: إن شاء الله عامكم يبدا بالجوْ و الحب و برشة أنترنات 😍🎉🎇🎁\\nتاڨي عشيرك إلي تحب تتمنالو عام مبروك ❤ \\n#NewYear #Bye2017 #2K18 http…', '@OrangeTN 58678906', '@ay_menn @OrangeTN  https://t.co/ssuvDS4RXE', 'RT @OrangeTN: @ou_wwer عسلامة يا جماعة، تبعونا ليلة راس العام على Facebook بش نفرحو بيكم  😉❤', 'RT @WannesKawther: شعب متضامن في كل شيء حمدالله \\nمطلب مشترك 😁 \\n@OrangeTN https://t.co/R03RVUtuCy', 'RT @ay_menn: @OrangeTN لأحلى مشغل انترنت في #تونس..\\n أفرح بينا رأس العام🎉🎇،  نفرحو بيك كامل العام..🎈🎈\\nوكل عام وانت بخير وكل عام دللو فينا', 'RT @Rabouha13: كمشتركة وفية لاحسن مشغل في تونس @OrangeTN نحبو ندللوا عليكم وتودونا ب1000 نقطة كهدية راس السنة. 😘😘\\n#تونس \\nروتويت يا جماعه و…', 'RT @OrangeTN: لترتيب الشهري للأندية الإفريقية ديسمبر 2017 ⚽\\nجمعيتك في أي مرتبة ؟ 🤔\\n#OrangeFoot https://t.co/1yF5MNzNTG', '@ou_wwer @OrangeTN  https://t.co/A7U4rySwvg', 'RT @OrangeTN: لترتيب الشهري للأندية الإفريقية ديسمبر 2017 ⚽\\nجمعيتك في أي مرتبة ؟ 🤔\\n#OrangeFoot https://t.co/1yF5MNzNTG', 'RT @OrangeTN: لترتيب الشهري للأندية الإفريقية ديسمبر 2017 ⚽\\nجمعيتك في أي مرتبة ؟ 🤔\\n#OrangeFoot https://t.co/1yF5MNzNTG', '@OrangeTN 1 ♥️', '@OrangeTN اورونج مهناش هدية في راس العام :/ :)', '@OrangeTN كان تنقصو مالسرقه خير', \"Bjr @OrangeTN c'est normal chez vous d'envoyer des sms promotionnels à 1h20 du matin #foutage_de_gueule\", '@OrangeTN حمد الله موش خايب فيه حجات تفرح اما نستناو ما خير ان شاء الله في 2018 و خدمات احسن من عندكم 😉 \\nكل عام حيين بالف خير 🌹🌹', '@ou_wwer @OrangeTN 💚', '@ou_wwer @OrangeTN هذ الخاصية موجودة في اوريدو من زمان .وهذو نقاطي  😅 244 نقطة https://t.co/vWLHdQIb4G', 'RT @ou_wwer: يا #توانسة تعملو روتويت و كمنتار تحت التويته متاعي \\nخلينا ندللو على @OrangeTN باش تعطينا 1000 او 2000 points نعديوهم انترنات 💟…', '@ou_wwer @OrangeTN بصراحة.. خدمات اورنج خدمات ممتازة', 'RT @ou_wwer: يا #توانسة تعملو روتويت و كمنتار تحت التويته متاعي \\nخلينا ندللو على @OrangeTN باش تعطينا 1000 او 2000 points نعديوهم انترنات 💟…', '@ou_wwer @OrangeTN كيفاش ندللوها ات ندللوها و ندللو اللي يخدموا فيها 😂😂😂 غير تعطينا شوية انترنت نتمتعوا بيها', 'RT @ou_wwer: يا #توانسة تعملو روتويت و كمنتار تحت التويته متاعي \\nخلينا ندللو على @OrangeTN باش تعطينا 1000 او 2000 points نعديوهم انترنات 💟…', '@ou_wwer @OrangeTN OK\\nMr6 b1\\nوان شاء الله عام مبارك عليك و علي جميع التوانسه', '@ou_wwer @Rabouha13 @OrangeTN @Nassim_Raissi اوكي', '@afefgharbitv @Rabouha13 @OrangeTN @Nassim_Raissi اني عندي ارقامو ايجا مساجات عزيزتي ربي يخليك', 'RT @afefgharbitv: @Rabouha13 @ou_wwer @OrangeTN @Nassim_Raissi لازم انلوج على ارقامو ضاعو مني .. ان شاء الله عن قريب نوعدكم 💗💝💞', 'RT @ou_wwer: @afefgharbitv @Rabouha13 @OrangeTN معللمة \\nبربي عندي ليك طلب وان شاءالله تقبل \\nفمة شاب تونسي صوتو طربي بامتياز هو نسيم رايسي ت…', 'RT @afefgharbitv: @ou_wwer @Rabouha13 @OrangeTN @Nassim_Raissi نعرفو طبعا نسيم من احلى الاصوات ، ما فهمتش علاش غاب جمله واحده ..', '@afefgharbitv @Rabouha13 @OrangeTN @Nassim_Raissi ياااا تعرفووو شفتو علاش نحبها عفاف خاطر تخمامنا كيف كيف عسللللل و… https://t.co/RfpNSP1jmA', '@Rabouha13 @ou_wwer @OrangeTN @Nassim_Raissi لازم انلوج على ارقامو ضاعو مني .. ان شاء الله عن قريب نوعدكم 💗💝💞', '@ou_wwer @Rabouha13 @OrangeTN @Nassim_Raissi نعرفو طبعا نسيم من احلى الاصوات ، ما فهمتش علاش غاب جمله واحده ..', 'RT @Rabouha13: @ou_wwer @afefgharbitv @OrangeTN @Nassim_Raissi وي بالرسمي هذه اقوى حكاية تنجم تحققهالنا الحب عفاف الغربي انها تستضيف نسيم ر…', '@ou_wwer @afefgharbitv @OrangeTN @Nassim_Raissi وي بالرسمي هذه اقوى حكاية تنجم تحققهالنا الحب عفاف الغربي انها تستض… https://t.co/YU5EvZn5hf', '@afefgharbitv @ou_wwer @OrangeTN يخليلي زينك ياعمري', 'RT @afefgharbitv: @Rabouha13 @ou_wwer هاني عملت عزيزتي .. تستاهل @OrangeTN  ديما مسهله علينا الدنيا ❤️', 'RT @ou_wwer: @afefgharbitv @Rabouha13 @OrangeTN معللمة \\nبربي عندي ليك طلب وان شاءالله تقبل \\nفمة شاب تونسي صوتو طربي بامتياز هو نسيم رايسي ت…', '@afefgharbitv @Rabouha13 @OrangeTN معللمة \\nبربي عندي ليك طلب وان شاءالله تقبل \\nفمة شاب تونسي صوتو طربي بامتياز هو ن… https://t.co/ck8Xfx2zXj', 'RT @afefgharbitv: @Rabouha13 @ou_wwer هاني عملت عزيزتي .. تستاهل @OrangeTN  ديما مسهله علينا الدنيا ❤️', '@Rabouha13 @ou_wwer هاني عملت عزيزتي .. تستاهل @OrangeTN  ديما مسهله علينا الدنيا ❤️', 'RT @WannesKawther: شعب متضامن في كل شيء حمدالله \\nمطلب مشترك 😁 \\n@OrangeTN https://t.co/R03RVUtuCy', '@OrangeTN 4', 'RT @ay_menn: @OrangeTN لأحلى مشغل انترنت في #تونس..\\n أفرح بينا رأس العام🎉🎇،  نفرحو بيك كامل العام..🎈🎈\\nوكل عام وانت بخير وكل عام دللو فينا', 'RT @Rabouha13: كمشتركة وفية لاحسن مشغل في تونس @OrangeTN نحبو ندللوا عليكم وتودونا ب1000 نقطة كهدية راس السنة. 😘😘\\n#تونس \\nروتويت يا جماعه و…', 'RT @Rabouha13: @OrangeTN @ou_wwer اورونج ايا وافق واعطينا 1000 نقطة', 'RT @ay_menn: @OrangeTN لأحلى مشغل انترنت في #تونس..\\n أفرح بينا رأس العام🎉🎇،  نفرحو بيك كامل العام..🎈🎈\\nوكل عام وانت بخير وكل عام دللو فينا', '@WannesKawther @OrangeTN 😂😂😂😂', 'RT @WannesKawther: شعب متضامن في كل شيء حمدالله \\nمطلب مشترك 😁 \\n@OrangeTN https://t.co/R03RVUtuCy', 'RT @ay_menn: @OrangeTN لأحلى مشغل انترنت في #تونس..\\n أفرح بينا رأس العام🎉🎇،  نفرحو بيك كامل العام..🎈🎈\\nوكل عام وانت بخير وكل عام دللو فينا', 'RT @ay_menn: @OrangeTN لأحلى مشغل انترنت في #تونس..\\n أفرح بينا رأس العام🎉🎇،  نفرحو بيك كامل العام..🎈🎈\\nوكل عام وانت بخير وكل عام دللو فينا', 'شعب متضامن في كل شيء حمدالله \\nمطلب مشترك 😁 \\n@OrangeTN https://t.co/R03RVUtuCy', 'الي عندو ligne orange \\nاكتب في تويته رساله لاورونج باش تعطينا نقاط نحولوهم انترنات واي واحد يعمل تويته نعملولو روتو… https://t.co/RnfB3cxkXn', '@OrangeTN لأحلى مشغل انترنت في #تونس..\\n أفرح بينا رأس العام🎉🎇،  نفرحو بيك كامل العام..🎈🎈\\nوكل عام وانت بخير وكل عام دللو فينا', 'RT @Rabouha13: @OrangeTN @ou_wwer اورونج ايا وافق واعطينا 1000 نقطة', '@OrangeTN @ou_wwer اورونج ايا وافق واعطينا 1000 نقطة', 'RT @OrangeTN: @ou_wwer عسلامة يا جماعة، تبعونا ليلة راس العام على Facebook بش نفرحو بيكم  😉❤', 'RT @Rabouha13: كمشتركة وفية لاحسن مشغل في تونس @OrangeTN نحبو ندللوا عليكم وتودونا ب1000 نقطة كهدية راس السنة. 😘😘\\n#تونس \\nروتويت يا جماعه و…', 'RT @Rabouha13: كمشتركة وفية لاحسن مشغل في تونس @OrangeTN نحبو ندللوا عليكم وتودونا ب1000 نقطة كهدية راس السنة. 😘😘\\n#تونس \\nروتويت يا جماعه و…', 'RT @Rabouha13: كمشتركة وفية لاحسن مشغل في تونس @OrangeTN نحبو ندللوا عليكم وتودونا ب1000 نقطة كهدية راس السنة. 😘😘\\n#تونس \\nروتويت يا جماعه و…', 'كمشتركة وفية لاحسن مشغل في تونس @OrangeTN نحبو ندللوا عليكم وتودونا ب1000 نقطة كهدية راس السنة. 😘😘\\n#تونس \\nروتويت يا… https://t.co/7P1MlpUlxX', 'RT @ou_wwer: يا #توانسة تعملو روتويت و كمنتار تحت التويته متاعي \\nخلينا ندللو على @OrangeTN باش تعطينا 1000 او 2000 points نعديوهم انترنات 💟…', '@OrangeTN تيكي لمدريد!هذا الكل حكايات فارغة!', '@ou_wwer @OrangeTN 😹😹😹😹هزني معاك وقت تمشي 😂👋', '@ou_wwer @OrangeTN 💃💃💃💃💃', 'RT @ou_wwer: يا #توانسة تعملو روتويت و كمنتار تحت التويته متاعي \\nخلينا ندللو على @OrangeTN باش تعطينا 1000 او 2000 points نعديوهم انترنات 💟…', '@khaoula_Morata @OrangeTN باش تشيخنا انترنات هههه', '@OrangeTN @ou_wwer نفرحو بيكم عندها برشا معاني 😶🤕', 'RT @OrangeTN: @ou_wwer عسلامة يا جماعة، تبعونا ليلة راس العام على Facebook بش نفرحو بيكم  😉❤', '@OrangeTN \\nديمة مدللتنا شفتو كيفاش وافقت وباش تعطينا des points internet \\nمع اورونج موش حتقدر تغمض عينيك 😘😘😘 \\n#تونس… https://t.co/Up92sM1Y36', '@OrangeTN بوزينكم عسللل هانا نستناو 😍😘', 'RT @fatmaca4: @ou_wwer @OrangeTN غير @OrangeTN  ماعناد حد يدلنلنا معملبين عليها تفرح بينا \\n 1000 او 2000 points نعديوهم انترنات 💟💟\\n#orange_…', '@Hkh0DywQ2MBPoae @OrangeTN تعمل *112# و تبع المراحل', \"@ou_wwer @OrangeTN Moi aussi j'adore orange\", '@ou_wwer @OrangeTN بالله شنوه code لتنجم  Transformé به les points', '@OrangeTN 51911', \"@OrangeTN C'est 51911\", 'RT @OrangeTN: و انتوما، شنية تختارو؟ 😎🎮🖥 https://t.co/8s2CHjOfLj', \"@AhlemHC @OrangeTN Bonsoir @AhlemHC  nous nous excusons pour le désagrément, merci de nous envoyer le numéro de l'A… https://t.co/T02IQx7AQ4\", 'RT @OrangeTN: و انتوما، شنية تختارو؟ 😎🎮🖥 https://t.co/8s2CHjOfLj', \"RT @AhlemHC: Le cadeau qui me ferait plaisir: que l'ADSL se remette à fonctionner correctement à Ennasr @OrangeTN @_TunisieTelecom\", '@OrangeTN pc', '@karim2k @AhlemHC @OrangeTN @_TunisieTelecom Le côté dépriment de la Tunisie.', \"RT @AhlemHC: Le cadeau qui me ferait plaisir: que l'ADSL se remette à fonctionner correctement à Ennasr @OrangeTN @_TunisieTelecom\", '@AhlemHC @OrangeTN @_TunisieTelecom Les choses simples qui se transforment en exploit!', '@OrangeTN كي نصوتو نربحو يعني يتساءل مراقيبون 🤔🤔🤔🤔😜', 'RT @OrangeTN: و انتوما، شنية تختارو؟ 😎🎮🖥 https://t.co/8s2CHjOfLj', '@OrangeTN للربح معناها ولا ايه ؟', '@marooo40415125 @ou_wwer @OrangeTN مافيش حل يرجع؟', '@khaoula_Morata @ou_wwer @OrangeTN اة. عملوا ريبورتات وبلوكة واتقفل😢😢البلاحوية كلهم', '@marooo40415125 @ou_wwer @OrangeTN :(( ماحاولتش ترجعو؟؟ مين الكلب يلي سرقو احباء بلحة؟ :(', '@khaoula_Morata @ou_wwer @OrangeTN انامارنجوس 😞', '@marooo40415125 @ou_wwer @OrangeTN 🤣🤣🤣🤣🤣🤣🤣 حساب مين يلي اتسرق؟😕', '@marooo40415125 @ou_wwer @OrangeTN 🤣🤣🤣🤣🤣يلا بينا ياض', '@khaoula_Morata @ou_wwer @OrangeTN يلاا عشان مسافرين المانيا ياموراتا😂😂😂😂', 'RT @ou_wwer: يا #توانسة تعملو روتويت و كمنتار تحت التويته متاعي \\nخلينا ندللو على @OrangeTN باش تعطينا 1000 او 2000 points نعديوهم انترنات 💟…', '@khaoula_Morata @ou_wwer @OrangeTN هماعشان حسابي اتسرق بيتشطروا عليكم😂😂', '@ou_wwer @OrangeTN وكان ماعطتناش نأدبوها؟😹', '@ou_wwer @OrangeTN غير @OrangeTN  ماعناد حد يدلنلنا معملبين عليها تفرح بينا \\n 1000 او 2000 points نعديوهم انترنات 💟… https://t.co/Yaj20l0riH', 'RT @ou_wwer: يا #توانسة تعملو روتويت و كمنتار تحت التويته متاعي \\nخلينا ندللو على @OrangeTN باش تعطينا 1000 او 2000 points نعديوهم انترنات 💟…', '@RanimYussef @OrangeTN يلا جووو هههه', '@free_pen_tn @OrangeTN بالعكس المرة الي فاتت عطاتنا هههه \\nيلا شوية كوراج', 'RT @ou_wwer: يا #توانسة تعملو روتويت و كمنتار تحت التويته متاعي \\nخلينا ندللو على @OrangeTN باش تعطينا 1000 او 2000 points نعديوهم انترنات 💟…', '@fatmaca4 @OrangeTN يلا مريقل', '@ou_wwer @OrangeTN ممكن صمبة بورقيبة تمدلنا 20 دينار قبل ما تعبّرنا أورونج.', '@ou_wwer @OrangeTN انا بيدي ناوية ناخو pus orange 😀', '@ou_wwer @OrangeTN نعاونك على اورنجوتعاوني على اوريدو', 'RT @ou_wwer: يا #توانسة تعملو روتويت و كمنتار تحت التويته متاعي \\nخلينا ندللو على @OrangeTN باش تعطينا 1000 او 2000 points نعديوهم انترنات 💟…', 'يا #توانسة تعملو روتويت و كمنتار تحت التويته متاعي \\nخلينا ندللو على @OrangeTN باش تعطينا 1000 او 2000 points نعديوه… https://t.co/NCNpJJP60g', '@OrangeTN حشيناهولنا by Kly BBJ et phenix', '@OrangeTN 51 911', '@OrangeTN Al borken by klay BBJ', '@OrangeTN Bye bye', '@OrangeTN ياحمامه طارت 😂', '@OrangeTN واش لزك عالمر 😂😂', '@OrangeTN كيف كان عمري عشرين', '@OrangeTN الأيام تجري و العمر خسارة، الفم يضحك و الڨلب فيه احزان', '@OrangeTN Orange tejri wel 4G 3jeja 🎼🎶🎤🎷🎸🎹🎺🎻', '@OrangeTN Layem kif ri7', '@OrangeTN And \\nhttps://t.co/pdCW2Nty6K', '@OrangeTN 😎😂\\nhttps://t.co/mWtIFRlygU', \"Le cadeau qui me ferait plaisir: que l'ADSL se remette à fonctionner correctement à Ennasr @OrangeTN @_TunisieTelecom\", '@OrangeTN c fait ...', 'RT @OrangeTN: Avez-vous déjà vu de la sculpture sur banane ? 🍌🤔 Maintenant oui!  😄\\nC’est l’artiste #StephanBrusche qui sculpte des bananes…', '@OrangeTN 51911', \"@adel_0 @Al_Pacino_ @kiffegrave @meryemmarzouki @OrangeTN Haouka ils t'on demandé tes coordonnées....\", '@ja3far2012 @Al_Pacino_ @kiffegrave @meryemmarzouki @OrangeTN Ils ont des pbs d’adsl qu’ils ne veulent pas avouer, comme toujours', '@ja3far2012 @Al_Pacino_ @kiffegrave @meryemmarzouki @OrangeTN Je viens de les changer, câbles pour telecom!', \"@adel_0 @Al_Pacino_ @kiffegrave @meryemmarzouki @OrangeTN branché en direct=marche jamais, y'a des filtres dedans d… https://t.co/Cu1iobQayY\", '@ja3far2012 @Al_Pacino_ @kiffegrave @meryemmarzouki @OrangeTN Je l’ai changé plusieurs fois, branché en direct innéfa3 allah', \"@adel_0 @Al_Pacino_ @kiffegrave @meryemmarzouki @OrangeTN Dis...t'as contrôlé ton splitter ?  Essaye de le remplace… https://t.co/4cj9RWe7N5\", '@adel_0 @Al_Pacino_ @kiffegrave @meryemmarzouki @OrangeTN Ton snr du serveur télécom est merdique, tu devrais avoir… https://t.co/rwsipCBrqQ', '@Al_Pacino_ @kiffegrave @ja3far2012 @meryemmarzouki @OrangeTN Transport par tube pneumatique c’est vachement plus e… https://t.co/4l28rFAILd', \"@adel_0 @kiffegrave @ja3far2012 @meryemmarzouki @OrangeTN C'est quoi ça? Non mais c'est du bas débit 😂\", '@Al_Pacino_ @kiffegrave @ja3far2012 @meryemmarzouki Msalli 3annibi, il a fallu installer un radiateur sur le modem… https://t.co/XZr2Ju0KIP', 'RT @OrangeTN: Avez-vous déjà vu de la sculpture sur banane ? 🍌🤔 Maintenant oui!  😄\\nC’est l’artiste #StephanBrusche qui sculpte des bananes…', 'RT @OrangeTN: #Google vient de lancer sa nouvelle application #Storyboard qui transforme les photos et vidéos en de véritables planches de…', '@OrangeTN Fait par DM', '@OrangeTN 17 minute en attente que votre support décroche, rien.. https://t.co/P8COst7O5x', \"And just like that, you know that you're going to have a shity day. Thank you @OrangeTN https://t.co/Xr1kQXmpls\", '@OrangeTN 51911', \"@OrangeTN Je télécharge cette application géniale, j'espère gagner ce smartphone magnifique et l'offrir à ma femme… https://t.co/rSefI7IXWW\", \"@OrangeTN C'est une bonne idée, application fantastique\", '@OrangeTN  https://t.co/fNzIjTV8a5', '@OrangeTN  https://t.co/fTP7n8bPik', '@OrangeTN 4', '@adel_0 @ja3far2012 @Lechatquirit @OrangeTN @Topnet_FSI @_TunisieTelecom Ceci pourrait expliquer mon problème', '@adel_0 @ja3far2012 @AhlemHC @OrangeTN @Topnet_FSI @_TunisieTelecom Ma zone est pas couverte et pourtant je suis a… https://t.co/VIrRg6feAV', '@ja3far2012 @Lechatquirit @AhlemHC @OrangeTN @Topnet_FSI @_TunisieTelecom Y a aussi la fibre', '@Lechatquirit @ja3far2012 @AhlemHC @OrangeTN @Topnet_FSI @_TunisieTelecom On avance minn téli :-(((', '@Lechatquirit @adel_0 @AhlemHC @OrangeTN @Topnet_FSI @_TunisieTelecom Si! La bêtise et le vandalisme! On pourrait en revendre...', \"@adel_0 @Lechatquirit @AhlemHC @OrangeTN @Topnet_FSI @_TunisieTelecom cool! T'arrives, t'installes un bypass et t'as l'internet gratos :D\", \"@adel_0 @ja3far2012 @AhlemHC @OrangeTN @Topnet_FSI @_TunisieTelecom J'ai l'impression que rien n'avance dans ce bled :-)\", 'RT @adel_0: @ja3far2012 @Lechatquirit @AhlemHC @OrangeTN @Topnet_FSI Voyez l’armoire TT du côté de cité Ennasr pas loin de la station servi…', '@ja3far2012 @Lechatquirit @AhlemHC @OrangeTN @Topnet_FSI Voyez l’armoire TT du côté de cité Ennasr pas loin de la s… https://t.co/33h4G9wfWz', \"@adel_0 @AhlemHC @OrangeTN @Topnet_FSI @WelidNaffati J'ai vu les 2 articles de @WelidNaffati et ca m'etonne encore.… https://t.co/FMDTlmva5U\", \"@Lechatquirit @adel_0 @AhlemHC @OrangeTN @Topnet_FSI J'en ai eu une, c'est devenu normal..\\nIls ont introduit leur m… https://t.co/y7ebCmpq9P\", '@Lechatquirit @AhlemHC @OrangeTN @Topnet_FSI @WelidNaffati https://t.co/B1wsU8UDW1', '@Lechatquirit @AhlemHC @OrangeTN @Topnet_FSI C’est eux-mêmes qui le disent en plus y a cet article sérieux de @WelidNaffati', '@adel_0 @AhlemHC @OrangeTN @Topnet_FSI Une attaque contre des modems de particuliers ? ca tient pas du tout debout… https://t.co/IE1aIjL6On', '@Lechatquirit @AhlemHC @OrangeTN En plus @OrangeTN comme @Topnet_FSI ont de graves soucis avec l’attaque que subiss… https://t.co/Z9eCHlgABS', 'RT @AhlemHC: Pareil avec @OrangeTN https://t.co/Q0rA9ibRXv', '@AhlemHC @OrangeTN Le pays du recul programmé :-)', 'Pareil avec @OrangeTN https://t.co/Q0rA9ibRXv', 'RT @OrangeTN: Alors, y a-t-il un génie parmi nous? 😝🤓 https://t.co/RBAQY1ZgKt', '@OrangeTN 51911', 'RT @OrangeTN: Yo 👊 \\nكانك تونسي و عليك الكلام إيجا ألعب Super Tounsi في جوْ %100 تونسي 🇹🇳😁\\nفيسع تلشرجي الـjeu من هوني 👇👇 \\niOS: https://t.co/…', '@OrangeTN 51911', \"@OrangeTN 👍👍👍👍👍 c'est fait\", '@OrangeTN 51911', '@OrangeTN 51911', '@hethamw @OrangeTN @ooredootn @_TunisieTelecom مهدي يريد . ايفون لجديد \\nمهدي يريد . ايفون اجديد', '@Mehdii_Na @OrangeTN @ooredootn @_TunisieTelecom Iphone x mayfekou menna 7ad', '@hethamw @OrangeTN كادو راس العام واجب وطني و مسؤولية جماعية ، فبحيث @ooredootn و @_TunisieTelecom مطالبين بضرورة ا… https://t.co/tgrgc0Mm4L', '@Mehdii_Na @OrangeTN ههههه كي السبة ...ارفع بيهم قضية', '@hethamw @OrangeTN كلونا في كادوات بابا ناوال و عانا نستناو في كادوات راس العام ههههههههههه', '@Mehdii_Na @OrangeTN W9ayet tel men Orange hhhhh', '@hethamw @OrangeTN Oh oui , je confirme :p', '@Mehdii_Na @OrangeTN Genie sa7biii', 'RT @Hamza02748190: @OrangeTN 51911', '@OrangeTN 51911  #calculatrice #genie', '@OrangeTN 51911', '@OrangeTN 51911', '@OrangeTN 51911', '@OrangeTN 51911', '@OrangeTN 51911🇹🇳', '@OrangeTN 51911', '@OrangeTN Une date approximative alors peut etre? :-)', '@OrangeTN Ok ca je le savais! :-) ma question est «\\xa0QUAND\\xa0?\\xa0» sera t’il disponible.', '@OrangeTN  l’apple watch 3 «\\xa0cellular\\xa0» necessite que l’opérateur fournisse le service multi sim! Comptez vous le faire? Quand?', '#Tunisie services mobiles \\n La mauvais qualité des infrastructures mobiles 📶 toujours dispo chez\\n@ooredootn &amp;… https://t.co/cKWKTzNp7W', 'RT @OrangeTN: أيا وينهم ال #gamers الصحاح يقوللنا كيفاش يحبوا يلعبوا؟ \\n#Gaming https://t.co/LGZWKKV9bm', '@OrangeTN PlayStation', '@OrangeTN PlayStation 😍😍', '@OrangeTN 👊', '@OrangeTN Chez nous, c’est PS4 party chaque semaine! 🎮😜', 'RT @OrangeTN: Yo 👊 \\nكانك تونسي و عليك الكلام إيجا ألعب Super Tounsi في جوْ %100 تونسي 🇹🇳😁\\nفيسع تلشرجي الـjeu من هوني 👇👇 \\niOS: https://t.co/…']\n"
     ]
    }
   ],
   "source": [
    "consumer_key = 'dJRBjK8LVPT39mjB7dFwWWJ51'\n",
    "consumer_secret = 'gXRX3WD77ONevSJMlcRBFRWY2AtEiD9BleQLdVfAO4z3GhrsAz'\n",
    "access_token = '3640758196-PtODNLbxszviuEsZJZUuw2Ugw167Q4RvUmVcgHc'\n",
    "access_secret = '9jIxnlnJ8UpH7nsE4aX8FG5prAZ6FlADXFAPlRGpTU4Tv'\n",
    " \n",
    "auth = OAuthHandler(consumer_key, consumer_secret)\n",
    "auth.set_access_token(access_token, access_secret)\n",
    " \n",
    "api = tweepy.API(auth)\n",
    "cricTweet = tweepy.Cursor(api.search, q='@OrangeTN').items()\n",
    "\n",
    "tweets=[]\n",
    "urls=[]\n",
    "sublist_tweets=[]\n",
    "for tweet in cricTweet:\n",
    "    tweets.append(tweet.text)"
   ]
  },
  {
   "cell_type": "code",
   "execution_count": 9,
   "metadata": {},
   "outputs": [
    {
     "ename": "TweepError",
     "evalue": "Twitter error response: status code = 429",
     "output_type": "error",
     "traceback": [
      "\u001b[1;31m---------------------------------------------------------------------------\u001b[0m",
      "\u001b[1;31mTweepError\u001b[0m                                Traceback (most recent call last)",
      "\u001b[1;32m<ipython-input-9-9edc999c57f1>\u001b[0m in \u001b[0;36m<module>\u001b[1;34m()\u001b[0m\n\u001b[0;32m      2\u001b[0m \u001b[0murls\u001b[0m\u001b[1;33m=\u001b[0m\u001b[1;33m[\u001b[0m\u001b[1;33m]\u001b[0m\u001b[1;33m\u001b[0m\u001b[0m\n\u001b[0;32m      3\u001b[0m \u001b[0msublist_tweets\u001b[0m\u001b[1;33m=\u001b[0m\u001b[1;33m[\u001b[0m\u001b[1;33m]\u001b[0m\u001b[1;33m\u001b[0m\u001b[0m\n\u001b[1;32m----> 4\u001b[1;33m \u001b[1;32mfor\u001b[0m \u001b[0mtweet\u001b[0m \u001b[1;32min\u001b[0m \u001b[0mcricTweet\u001b[0m\u001b[1;33m:\u001b[0m\u001b[1;33m\u001b[0m\u001b[0m\n\u001b[0m\u001b[0;32m      5\u001b[0m     \u001b[0msublist_tweets\u001b[0m\u001b[1;33m=\u001b[0m\u001b[1;33m[\u001b[0m\u001b[1;33m]\u001b[0m\u001b[1;33m\u001b[0m\u001b[0m\n\u001b[0;32m      6\u001b[0m     \u001b[0msublist_tweets\u001b[0m\u001b[1;33m.\u001b[0m\u001b[0mappend\u001b[0m\u001b[1;33m(\u001b[0m\u001b[0mtweet\u001b[0m\u001b[1;33m.\u001b[0m\u001b[0mtext\u001b[0m\u001b[1;33m)\u001b[0m\u001b[1;33m\u001b[0m\u001b[0m\n",
      "\u001b[1;32mC:\\Anaconda\\Anaconda3\\lib\\site-packages\\tweepy\\cursor.py\u001b[0m in \u001b[0;36m__next__\u001b[1;34m(self)\u001b[0m\n\u001b[0;32m     47\u001b[0m \u001b[1;33m\u001b[0m\u001b[0m\n\u001b[0;32m     48\u001b[0m     \u001b[1;32mdef\u001b[0m \u001b[0m__next__\u001b[0m\u001b[1;33m(\u001b[0m\u001b[0mself\u001b[0m\u001b[1;33m)\u001b[0m\u001b[1;33m:\u001b[0m\u001b[1;33m\u001b[0m\u001b[0m\n\u001b[1;32m---> 49\u001b[1;33m         \u001b[1;32mreturn\u001b[0m \u001b[0mself\u001b[0m\u001b[1;33m.\u001b[0m\u001b[0mnext\u001b[0m\u001b[1;33m(\u001b[0m\u001b[1;33m)\u001b[0m\u001b[1;33m\u001b[0m\u001b[0m\n\u001b[0m\u001b[0;32m     50\u001b[0m \u001b[1;33m\u001b[0m\u001b[0m\n\u001b[0;32m     51\u001b[0m     \u001b[1;32mdef\u001b[0m \u001b[0mnext\u001b[0m\u001b[1;33m(\u001b[0m\u001b[0mself\u001b[0m\u001b[1;33m)\u001b[0m\u001b[1;33m:\u001b[0m\u001b[1;33m\u001b[0m\u001b[0m\n",
      "\u001b[1;32mC:\\Anaconda\\Anaconda3\\lib\\site-packages\\tweepy\\cursor.py\u001b[0m in \u001b[0;36mnext\u001b[1;34m(self)\u001b[0m\n\u001b[0;32m    195\u001b[0m         \u001b[1;32mif\u001b[0m \u001b[0mself\u001b[0m\u001b[1;33m.\u001b[0m\u001b[0mcurrent_page\u001b[0m \u001b[1;32mis\u001b[0m \u001b[1;32mNone\u001b[0m \u001b[1;32mor\u001b[0m \u001b[0mself\u001b[0m\u001b[1;33m.\u001b[0m\u001b[0mpage_index\u001b[0m \u001b[1;33m==\u001b[0m \u001b[0mlen\u001b[0m\u001b[1;33m(\u001b[0m\u001b[0mself\u001b[0m\u001b[1;33m.\u001b[0m\u001b[0mcurrent_page\u001b[0m\u001b[1;33m)\u001b[0m \u001b[1;33m-\u001b[0m \u001b[1;36m1\u001b[0m\u001b[1;33m:\u001b[0m\u001b[1;33m\u001b[0m\u001b[0m\n\u001b[0;32m    196\u001b[0m             \u001b[1;31m# Reached end of current page, get the next page...\u001b[0m\u001b[1;33m\u001b[0m\u001b[1;33m\u001b[0m\u001b[0m\n\u001b[1;32m--> 197\u001b[1;33m             \u001b[0mself\u001b[0m\u001b[1;33m.\u001b[0m\u001b[0mcurrent_page\u001b[0m \u001b[1;33m=\u001b[0m \u001b[0mself\u001b[0m\u001b[1;33m.\u001b[0m\u001b[0mpage_iterator\u001b[0m\u001b[1;33m.\u001b[0m\u001b[0mnext\u001b[0m\u001b[1;33m(\u001b[0m\u001b[1;33m)\u001b[0m\u001b[1;33m\u001b[0m\u001b[0m\n\u001b[0m\u001b[0;32m    198\u001b[0m             \u001b[0mself\u001b[0m\u001b[1;33m.\u001b[0m\u001b[0mpage_index\u001b[0m \u001b[1;33m=\u001b[0m \u001b[1;33m-\u001b[0m\u001b[1;36m1\u001b[0m\u001b[1;33m\u001b[0m\u001b[0m\n\u001b[0;32m    199\u001b[0m         \u001b[0mself\u001b[0m\u001b[1;33m.\u001b[0m\u001b[0mpage_index\u001b[0m \u001b[1;33m+=\u001b[0m \u001b[1;36m1\u001b[0m\u001b[1;33m\u001b[0m\u001b[0m\n",
      "\u001b[1;32mC:\\Anaconda\\Anaconda3\\lib\\site-packages\\tweepy\\cursor.py\u001b[0m in \u001b[0;36mnext\u001b[1;34m(self)\u001b[0m\n\u001b[0;32m    106\u001b[0m \u001b[1;33m\u001b[0m\u001b[0m\n\u001b[0;32m    107\u001b[0m         \u001b[1;32mif\u001b[0m \u001b[0mself\u001b[0m\u001b[1;33m.\u001b[0m\u001b[0mindex\u001b[0m \u001b[1;33m>=\u001b[0m \u001b[0mlen\u001b[0m\u001b[1;33m(\u001b[0m\u001b[0mself\u001b[0m\u001b[1;33m.\u001b[0m\u001b[0mresults\u001b[0m\u001b[1;33m)\u001b[0m \u001b[1;33m-\u001b[0m \u001b[1;36m1\u001b[0m\u001b[1;33m:\u001b[0m\u001b[1;33m\u001b[0m\u001b[0m\n\u001b[1;32m--> 108\u001b[1;33m             \u001b[0mdata\u001b[0m \u001b[1;33m=\u001b[0m \u001b[0mself\u001b[0m\u001b[1;33m.\u001b[0m\u001b[0mmethod\u001b[0m\u001b[1;33m(\u001b[0m\u001b[0mmax_id\u001b[0m\u001b[1;33m=\u001b[0m\u001b[0mself\u001b[0m\u001b[1;33m.\u001b[0m\u001b[0mmax_id\u001b[0m\u001b[1;33m,\u001b[0m \u001b[0mparser\u001b[0m\u001b[1;33m=\u001b[0m\u001b[0mRawParser\u001b[0m\u001b[1;33m(\u001b[0m\u001b[1;33m)\u001b[0m\u001b[1;33m,\u001b[0m \u001b[1;33m*\u001b[0m\u001b[0mself\u001b[0m\u001b[1;33m.\u001b[0m\u001b[0margs\u001b[0m\u001b[1;33m,\u001b[0m \u001b[1;33m**\u001b[0m\u001b[0mself\u001b[0m\u001b[1;33m.\u001b[0m\u001b[0mkargs\u001b[0m\u001b[1;33m)\u001b[0m\u001b[1;33m\u001b[0m\u001b[0m\n\u001b[0m\u001b[0;32m    109\u001b[0m \u001b[1;33m\u001b[0m\u001b[0m\n\u001b[0;32m    110\u001b[0m             \u001b[1;32mif\u001b[0m \u001b[0mhasattr\u001b[0m\u001b[1;33m(\u001b[0m\u001b[0mself\u001b[0m\u001b[1;33m.\u001b[0m\u001b[0mmethod\u001b[0m\u001b[1;33m,\u001b[0m \u001b[1;34m'__self__'\u001b[0m\u001b[1;33m)\u001b[0m\u001b[1;33m:\u001b[0m\u001b[1;33m\u001b[0m\u001b[0m\n",
      "\u001b[1;32mC:\\Anaconda\\Anaconda3\\lib\\site-packages\\tweepy\\binder.py\u001b[0m in \u001b[0;36m_call\u001b[1;34m(*args, **kwargs)\u001b[0m\n\u001b[0;32m    243\u001b[0m             \u001b[1;32mreturn\u001b[0m \u001b[0mmethod\u001b[0m\u001b[1;33m\u001b[0m\u001b[0m\n\u001b[0;32m    244\u001b[0m         \u001b[1;32melse\u001b[0m\u001b[1;33m:\u001b[0m\u001b[1;33m\u001b[0m\u001b[0m\n\u001b[1;32m--> 245\u001b[1;33m             \u001b[1;32mreturn\u001b[0m \u001b[0mmethod\u001b[0m\u001b[1;33m.\u001b[0m\u001b[0mexecute\u001b[0m\u001b[1;33m(\u001b[0m\u001b[1;33m)\u001b[0m\u001b[1;33m\u001b[0m\u001b[0m\n\u001b[0m\u001b[0;32m    246\u001b[0m \u001b[1;33m\u001b[0m\u001b[0m\n\u001b[0;32m    247\u001b[0m     \u001b[1;31m# Set pagination mode\u001b[0m\u001b[1;33m\u001b[0m\u001b[1;33m\u001b[0m\u001b[0m\n",
      "\u001b[1;32mC:\\Anaconda\\Anaconda3\\lib\\site-packages\\tweepy\\binder.py\u001b[0m in \u001b[0;36mexecute\u001b[1;34m(self)\u001b[0m\n\u001b[0;32m    227\u001b[0m                     \u001b[1;32mraise\u001b[0m \u001b[0mRateLimitError\u001b[0m\u001b[1;33m(\u001b[0m\u001b[0merror_msg\u001b[0m\u001b[1;33m,\u001b[0m \u001b[0mresp\u001b[0m\u001b[1;33m)\u001b[0m\u001b[1;33m\u001b[0m\u001b[0m\n\u001b[0;32m    228\u001b[0m                 \u001b[1;32melse\u001b[0m\u001b[1;33m:\u001b[0m\u001b[1;33m\u001b[0m\u001b[0m\n\u001b[1;32m--> 229\u001b[1;33m                     \u001b[1;32mraise\u001b[0m \u001b[0mTweepError\u001b[0m\u001b[1;33m(\u001b[0m\u001b[0merror_msg\u001b[0m\u001b[1;33m,\u001b[0m \u001b[0mresp\u001b[0m\u001b[1;33m,\u001b[0m \u001b[0mapi_code\u001b[0m\u001b[1;33m=\u001b[0m\u001b[0mapi_error_code\u001b[0m\u001b[1;33m)\u001b[0m\u001b[1;33m\u001b[0m\u001b[0m\n\u001b[0m\u001b[0;32m    230\u001b[0m \u001b[1;33m\u001b[0m\u001b[0m\n\u001b[0;32m    231\u001b[0m             \u001b[1;31m# Parse the response payload\u001b[0m\u001b[1;33m\u001b[0m\u001b[1;33m\u001b[0m\u001b[0m\n",
      "\u001b[1;31mTweepError\u001b[0m: Twitter error response: status code = 429"
     ]
    }
   ],
   "source": [
    "tweets=[]\n",
    "urls=[]\n",
    "sublist_tweets=[]\n",
    "for tweet in cricTweet:\n",
    "    sublist_tweets=[]\n",
    "    sublist_tweets.append(tweet.text)\n",
    "    print(sublist_tweets)"
   ]
  },
  {
   "cell_type": "code",
   "execution_count": 91,
   "metadata": {
    "collapsed": true
   },
   "outputs": [],
   "source": [
    "tweets=[]\n",
    "urls=[]\n",
    "sublist_tweets=[]\n",
    "for tweet in cricTweet:\n",
    "    sublist_tweets=[]\n",
    "    sublist_tweets.append(tweet.text)\n",
    "    print(sublist_tweets)\n",
    "    print(tweet.entities['urls']['url'])"
   ]
  },
  {
   "cell_type": "code",
   "execution_count": null,
   "metadata": {
    "collapsed": true
   },
   "outputs": [],
   "source": []
  },
  {
   "cell_type": "code",
   "execution_count": 55,
   "metadata": {
    "collapsed": true
   },
   "outputs": [],
   "source": [
    "tweets=[]\n",
    "urls=[]\n",
    "for tweet in cricTweet:\n",
    "    for url in tweet.entities['urls']:\n",
    "        sublist_tweets=[]\n",
    "        sublist_tweets.appent(tweet.text)\n",
    "        sublist_tweets.appent('positive')\n",
    "        sublist_tweets.appent(tweet.created_at)\n",
    "        sublist_tweets.appent(url['url'])\n",
    "        tweets.extend([sublist_tweets])\n",
    "    print(tweets)"
   ]
  },
  {
   "cell_type": "code",
   "execution_count": null,
   "metadata": {
    "collapsed": true
   },
   "outputs": [],
   "source": [
    "tweets=[]\n",
    "for tweet in cricTweet:\n",
    "    sublist_tweets=[]\n",
    "    #print(tweet.text)\n",
    "    #print(tweet.entities['urls'])\n",
    "    sublist_tweets.appent(tweet.text)\n",
    "    sublist_tweets.appent('positive')\n",
    "    sublist_tweets.appent(tweet.created_at)\n",
    "    tweets.append(sublist_tweets)\n",
    "print(tweets)"
   ]
  },
  {
   "cell_type": "code",
   "execution_count": 6,
   "metadata": {},
   "outputs": [
    {
     "name": "stdout",
     "output_type": "stream",
     "text": [
      "RT @karim2k: La générosité de @OrangeTN un voyage au coupé du monde 2018 au fameux CM de @ooredootn Wajih par son prénom  😄 💟💝💘 https://t.c…\n",
      "La générosité de @OrangeTN un voyage au coupé du monde 2018 au fameux CM de @ooredootn Wajih par son prénom  😄 💟💝💘 https://t.co/FzrynCCjAN\n",
      "Riles, i like this one too,it was a show!   Thanks to our team and partners @OrangeTN https://t.co/9z3OC3UExq\n",
      "@OrangeTN Pepsi man\n",
      "@OrangeTN_Plus @OrangeTN Bravo !!!\n",
      "RT @millet_thierry: Première de Riles en Tunisie : de beaux débuts pour une belle histoire @OrangeTN https://t.co/9ToPqsDDSE\n",
      "@OrangeTN Top 👍\n",
      "il y a un problème d'ADSL @OrangeTN ?\n",
      "Première de Riles en Tunisie : de beaux débuts pour une belle histoire @OrangeTN https://t.co/9ToPqsDDSE\n",
      "RT @OrangeTN_Plus: #Solidarity always wins ! Bravo aux bénévoles d'@OrangeTN et de l'association \"un enfant, des sourires\" pour la réussite…\n",
      "@OrangeTN sa7a noum\n",
      "RT @OrangeTN_Plus: #Solidarity always wins ! Bravo aux bénévoles d'@OrangeTN et de l'association \"un enfant, des sourires\" pour la réussite…\n",
      "@OrangeTN الاعب اسمو wxfdwyzugzqhyifc بن بسغمىفثضسه يلعب في المانيا\n",
      "#Solidarity always wins ! Bravo aux bénévoles d'@OrangeTN et de l'association \"un enfant, des sourires\" pour la réu… https://t.co/vnxFkXPafm\n",
      "@OrangeTN Need for speed\n",
      "@OrangeTN Rayman 👍\n",
      "RT @elacheche: .@Topnet_FSI &amp; @OrangeTN can you please share a detailed #Technical #PressRelease or #report about the @Huawei #HG532e incid…\n",
      "Top brands on Twitter in Tunisia: @OrangeTN @Leaders_Tunisie @CLtounes @waleg @lesannoncesTN https://t.co/KCceFL7vU7\n",
      "@OrangeTN I remember I loved the legend of the dragoon !\n",
      "@OrangeTN The Avengers !\n",
      "@OrangeTN GTA\n",
      "@slimKhan @elacheche @OrangeTN @Topnet_FSI @Huawei @WelidNaffati @MedAliSouissi You made my day xD\n",
      "@slimKhan @OrangeTN @Topnet_FSI @Huawei @WelidNaffati @MedAliSouissi That's lovely!! :D ping @WelidNaffati  @MedAliSouissi\n",
      "@elacheche @OrangeTN @Topnet_FSI @Huawei @WelidNaffati @MedAliSouissi xD https://t.co/9hTk1ktnvL\n",
      "@slimKhan @OrangeTN @Topnet_FSI @Huawei @WelidNaffati @MedAliSouissi Seriously?!! :o\n",
      "@OrangeTN @elacheche @Topnet_FSI @Huawei @WelidNaffati @MedAliSouissi W Kamel es2elhom pk ba3D el maj fel orange el… https://t.co/G51E8v2IR5\n",
      "@OrangeTN 20/3\n",
      "RT @OrangeTN: Fan d'#HarryPotter et du monde de #Poudlard ✨? Réjouissez-vous car un nouveau jeu de rôle sur #mobile #HogwartsMystery sera l…\n",
      "@OrangeTN Ce matin ça marche comme du tonnerre de Dieu #OrangeTunisie https://t.co/RDOExR58uj\n",
      "RT @elacheche: .@Topnet_FSI &amp; @OrangeTN can you please share a detailed #Technical #PressRelease or #report about the @Huawei #HG532e incid…\n",
      "@vadmeste @Topnet_FSI @OrangeTN @Huawei @WelidNaffati @MedAliSouissi The default password was already changed by th… https://t.co/KDroj4gdh1\n",
      "@OrangeTN le 1150 se moque de moi, j’ai des pbs de connexions, après m’avoir fait faire changer les câbles muraux o… https://t.co/OgczCIYbKA\n",
      "@elacheche @Topnet_FSI @OrangeTN @Huawei @WelidNaffati @MedAliSouissi Looks like this one https://t.co/oD1YXzvfic.… https://t.co/krx4pg9xvY\n",
      ".@Topnet_FSI &amp; @OrangeTN can you please share a detailed #Technical #PressRelease or #report about the @Huawei… https://t.co/mKUR2wQjw7\n",
      "@OrangeTN Ok I will..maybe this weekend haha\n",
      "@OrangeTN 1\n",
      "@OrangeTN la 5\n",
      "vous m'offrez une!\n",
      "@ooredootn impossible de recevoir des sms de validation de pas mal de site internationaux.. par contre sur le résea… https://t.co/eur92cecHG\n",
      "@BRIsigsauer @OrangeTN @ooredootn c'est pareil dans les campagnes en France, c'est souvent goégraphique mdrr\n",
      "@The_Arabian_Nat @OrangeTN @ooredootn Pourtant la 4G est affiché sur le phone, 2 Minutes pour charger un massage sur Twitter 😭\n",
      "@The_Arabian_Nat @OrangeTN @ooredootn 4G inexistante chez ooredoo\n",
      "@OrangeTN @ooredootn De rien. 😜\n",
      "@BRIsigsauer @OrangeTN @ooredootn Mdrrr\n",
      "Si vous allez en Tunisie. un conseil optez pour  @OrangeTN dans le sud, @ooredootn c’est vraiment pire que free en France😭😭😭😭😭\n",
      "@OrangeTN Mon souci, c’est vos textos de pub reçu trois fois par semaine.\n",
      "@OrangeTN @MBLAMINE @ooredootn Merci :)\n",
      "@MBLAMINE @OrangeTN @ooredootn 😑\n",
      "@Molka_Chaari @OrangeTN Ya que la boutique @ooredootn au cas où ;)\n",
      "@OrangeTN y a une boutique orange au Tunisia Mall?\n",
      "Ca va @OrangeTN? Je ne vous dérange pas trop? #harcelementpublicitaire https://t.co/Zv30gocPGL\n",
      "@Karim_elo @OrangeTN ça dépend toujours de votre utilisation et non pas de la validité du forfait, mais si voulez o… https://t.co/vJxF24aTUz\n",
      "Durée du forfait données mobiles 1Go en Tunisie : avec @OrangeTN 10 jours, avec @ooredootn 2 jours...et sans change… https://t.co/OKxfRX8ePX\n",
      "@OrangeTN Didn't watch any\n",
      "@OrangeTN D'accord merci\n",
      "So kifech taw @OrangeTN tjewebech3al les tweet service client ma7abech totlob w 3 semaine sans adsl ¯\\_(ツ)_/¯\n",
      "@OrangeTN On paie 39d chaque mois??\n",
      "@OrangeTN On paie 39 d chaque mois??\n",
      "RT @Marwabek_tn: Bravo les gars 👏🏻👍🏻@OrangeTN Handball 🤾‍♀️ team ! https://t.co/AukUIaYMXl\n",
      "@OrangeTN Iphone b 200dt !! Impossible !\n",
      "RT @Marwabek_tn: Bravo les gars 👏🏻👍🏻@OrangeTN Handball 🤾‍♀️ team ! https://t.co/AukUIaYMXl\n"
     ]
    }
   ],
   "source": [
    "tweets=[]\n",
    "for tweet in cricTweet:\n",
    "    print(tweet.text)\n",
    "    tweets.append(tweet.text)\n",
    "    \n",
    "with open('data/tweets.csv', 'a') as f:\n",
    "    writer = csv.writer(f)\n",
    "    for val in tweets:\n",
    "        writer.writerow([val])\n",
    "\n",
    "\n",
    "\n",
    "    "
   ]
  },
  {
   "cell_type": "code",
   "execution_count": null,
   "metadata": {
    "collapsed": true
   },
   "outputs": [],
   "source": []
  }
 ],
 "metadata": {
  "kernelspec": {
   "display_name": "Python 3",
   "language": "python",
   "name": "python3"
  },
  "language_info": {
   "codemirror_mode": {
    "name": "ipython",
    "version": 3
   },
   "file_extension": ".py",
   "mimetype": "text/x-python",
   "name": "python",
   "nbconvert_exporter": "python",
   "pygments_lexer": "ipython3",
   "version": "3.6.3"
  }
 },
 "nbformat": 4,
 "nbformat_minor": 2
}
