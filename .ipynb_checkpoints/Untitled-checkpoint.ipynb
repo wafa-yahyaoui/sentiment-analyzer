{
 "cells": [
  {
   "cell_type": "code",
   "execution_count": 54,
   "metadata": {
    "collapsed": true
   },
   "outputs": [],
   "source": [
    "import urllib3\n",
    "import facebook\n",
    "import requests\n",
    "import csv\n",
    "import tweepy\n",
    "from tweepy import OAuthHandler\n",
    "import twitter"
   ]
  },
  {
   "cell_type": "code",
   "execution_count": 16,
   "metadata": {
    "collapsed": true
   },
   "outputs": [],
   "source": [
    "#consumer_key = 'dJRBjK8LVPT39mjB7dFwWWJ51'\n",
    "#consumer_secret = 'gXRX3WD77ONevSJMlcRBFRWY2AtEiD9BleQLdVfAO4z3GhrsAz'\n",
    "#access_token = '3640758196-PtODNLbxszviuEsZJZUuw2Ugw167Q4RvUmVcgHc'\n",
    "#access_secret = '9jIxnlnJ8UpH7nsE4aX8FG5prAZ6FlADXFAPlRGpTU4Tv'\n",
    "\n",
    "consumer_key = '6Jk8a18siiZoSRHmmFmHYXLdr'\n",
    "consumer_secret = 'wszXRwGPF4iXlLlMe63XTT1TCeznWtjUdIX9udQJ6r0hZVOww0'\n",
    "access_token = '2807187867-fkwOhIeYuaConlrvSytUdoc98oNrIKzr3tGjWSc'\n",
    "access_secret = 'X7N2qF2CW9v0J4hWCuvjJtjHqZNvOGUXcFezJiEjDxIoH'\n",
    " \n",
    "auth = OAuthHandler(consumer_key, consumer_secret)\n",
    "auth.set_access_token(access_token, access_secret)\n",
    " \n",
    "api = tweepy.API(auth)\n",
    "cricTweet = tweepy.Cursor(api.search, q='@OrangeTN').items(500)\n",
    "\n",
    "tweets=[]\n",
    "urls=[]\n",
    "sublist_tweets=[]\n",
    "for tweet in cricTweet:\n",
    "    for url in tweet.entities['urls']:\n",
    "        sublist_tweets.append(tweet.text)\n",
    "        sublist_tweets.append(\"positive\")\n",
    "        sublist_tweets.append(tweet.created_at) \n",
    "        sublist_tweets.append(url['url'])\n",
    "        tweets.extend([sublist_tweets])\n",
    "        sublist_tweets=[]\n",
    "#print(tweets)"
   ]
  },
  {
   "cell_type": "code",
   "execution_count": 15,
   "metadata": {
    "collapsed": true
   },
   "outputs": [],
   "source": [
    "with open(\"data/sentiment_category_tweets0.csv\", \"w\", encoding='UTF-8') as f_write:\n",
    "    writer = csv.writer(f_write)\n",
    "    for row in tweets:\n",
    "        writer.writerow(row)"
   ]
  },
  {
   "cell_type": "code",
   "execution_count": null,
   "metadata": {
    "collapsed": true
   },
   "outputs": [],
   "source": [
    "consumer_key = '6Jk8a18siiZoSRHmmFmHYXLdr'\n",
    "consumer_secret = 'wszXRwGPF4iXlLlMe63XTT1TCeznWtjUdIX9udQJ6r0hZVOww0'\n",
    "access_token = '2807187867-fkwOhIeYuaConlrvSytUdoc98oNrIKzr3tGjWSc'\n",
    "access_secret = 'X7N2qF2CW9v0J4hWCuvjJtjHqZNvOGUXcFezJiEjDxIoH'\n",
    " \n",
    "auth = OAuthHandler(consumer_key, consumer_secret)\n",
    "auth.set_access_token(access_token, access_secret)\n",
    " \n",
    "api = tweepy.API(auth)\n",
    "cricTweet = tweepy.Cursor(api.search, q='@OrangeTN').items(500)\n",
    "\n",
    "tweets=[]\n",
    "urls=[]\n",
    "sublist_tweets=[]\n",
    "for tweet in cricTweet:\n",
    "    for url in tweet.entities['urls']:\n",
    "        sublist_tweets.append(tweet.text)\n",
    "        sublist_tweets.append(\"positive\")\n",
    "        sublist_tweets.append(tweet.created_at) \n",
    "        sublist_tweets.append(url['url'])\n",
    "        tweets.extend([sublist_tweets])\n",
    "        sublist_tweets=[]\n",
    "#print(tweets)"
   ]
  },
  {
   "cell_type": "code",
   "execution_count": 120,
   "metadata": {
    "collapsed": true
   },
   "outputs": [],
   "source": [
    "import nltk.classify.util\n",
    "from nltk.classify import NaiveBayesClassifier\n",
    "from nltk.corpus import names\n",
    " \n",
    "def word_feats(words):\n",
    "    return dict([(word, True) for word in words])\n",
    " \n",
    "positive_vocab = [ 'رابحين', 'farna','mahlekom' 'fantastic', 'Mabrouk', 'good', 'nice', 'great', ':)' ,'5eir','😘',' bon','😍','satisfied',' Keep it','❤','💕','merci','yo','برافو ','امشيختنا' ,'امربحتنا ','امدللتنا','مبروووك']\n",
    "negative_vocab = [ 'قديمة', 'تكذبو ','الخساره', 'hate', ':(','kedb ' ,'sirka','Mahouch','عيب','😥','😢','التفاهاات','😭','💔 ','استهتار','jboura','inutile','problème','السرقة','tay7a']\n",
    "\n",
    " \n",
    "positive_features = [(word_feats(pos), 'pos') for pos in positive_vocab]\n",
    "negative_features = [(word_feats(neg), 'neg') for neg in negative_vocab]\n",
    "#neutral_features = []\n",
    "\n",
    " \n",
    "train_set = negative_features + positive_features # + neutral_features\n",
    " \n",
    "classifier = NaiveBayesClassifier.train(train_set) \n",
    "\n",
    "consumer_key = '6Jk8a18siiZoSRHmmFmHYXLdr'\n",
    "consumer_secret = 'wszXRwGPF4iXlLlMe63XTT1TCeznWtjUdIX9udQJ6r0hZVOww0'\n",
    "access_token = '2807187867-fkwOhIeYuaConlrvSytUdoc98oNrIKzr3tGjWSc'\n",
    "access_secret = 'X7N2qF2CW9v0J4hWCuvjJtjHqZNvOGUXcFezJiEjDxIoH'\n",
    " \n",
    "auth = OAuthHandler(consumer_key, consumer_secret)\n",
    "auth.set_access_token(access_token, access_secret)\n",
    " \n",
    "api = tweepy.API(auth)\n",
    "cricTweet = tweepy.Cursor(api.search, q='@OrangeTN').items()\n",
    "\n",
    "tweets=[]\n",
    "urls=[]\n",
    "sublist_tweets=[]\n",
    "for tweet in cricTweet:\n",
    "    tweets.append(tweet.text)\n",
    "#print(tweets)  \n",
    "s_liste=[]\n",
    "liste1 = []\n",
    "for i in tweets:\n",
    "    neg = 0\n",
    "    pos = 0\n",
    "    #print (i)\n",
    "    i = i.lower()\n",
    "    words = i.split(' ')\n",
    "    for word in words:\n",
    "        s_liste=[]\n",
    "        classResult = classifier.classify( word_feats(word))\n",
    "        if classResult == 'neg':\n",
    "            neg = neg + 1\n",
    "        if classResult == 'pos':\n",
    "            pos = pos + 1\n",
    "        p = float(pos)/len(words)\n",
    "        n = float(neg)/len(words) \n",
    "    s_liste.append(i)\n",
    "    if(p>n or p==n):\n",
    "        s_liste.append(\"positive\")\n",
    "        liste1.extend([s_liste])\n",
    "    if(p<n):\n",
    "        s_liste.append(\"negative\")\n",
    "        liste1.extend([s_liste]) \n",
    "#print(liste1)           "
   ]
  },
  {
   "cell_type": "code",
   "execution_count": 121,
   "metadata": {
    "collapsed": true
   },
   "outputs": [],
   "source": [
    "consumer_key = '6Jk8a18siiZoSRHmmFmHYXLdr'\n",
    "consumer_secret = 'wszXRwGPF4iXlLlMe63XTT1TCeznWtjUdIX9udQJ6r0hZVOww0'\n",
    "access_token = '2807187867-fkwOhIeYuaConlrvSytUdoc98oNrIKzr3tGjWSc'\n",
    "access_secret = 'X7N2qF2CW9v0J4hWCuvjJtjHqZNvOGUXcFezJiEjDxIoH'\n",
    " \n",
    "auth = OAuthHandler(consumer_key, consumer_secret)\n",
    "auth.set_access_token(access_token, access_secret)\n",
    " \n",
    "api = tweepy.API(auth)\n",
    "cricTweet = tweepy.Cursor(api.search, q='@OrangeTN').items(500)\n",
    "\n",
    "liste2=[]\n",
    "urls=[]\n",
    "sublist_tweets=[]\n",
    "for tweet in cricTweet:\n",
    "    sublist_tweets.append(tweet.created_at) \n",
    "    liste2.extend(sublist_tweets)\n",
    "    sublist_tweets=[]\n",
    "#print(liste2)"
   ]
  },
  {
   "cell_type": "code",
   "execution_count": 122,
   "metadata": {},
   "outputs": [
    {
     "data": {
      "text/plain": [
       "225"
      ]
     },
     "execution_count": 122,
     "metadata": {},
     "output_type": "execute_result"
    }
   ],
   "source": [
    "len(liste1)"
   ]
  },
  {
   "cell_type": "code",
   "execution_count": 123,
   "metadata": {},
   "outputs": [
    {
     "data": {
      "text/plain": [
       "225"
      ]
     },
     "execution_count": 123,
     "metadata": {},
     "output_type": "execute_result"
    }
   ],
   "source": [
    "len(liste2)"
   ]
  },
  {
   "cell_type": "code",
   "execution_count": 124,
   "metadata": {
    "collapsed": true
   },
   "outputs": [],
   "source": [
    "l0=[]\n",
    "for i in range(0,len(liste1)):\n",
    "    liste1[i].append(liste2[i])\n",
    "    l0.extend([liste1[i]])\n",
    "#print(l0)"
   ]
  },
  {
   "cell_type": "code",
   "execution_count": 125,
   "metadata": {
    "collapsed": true
   },
   "outputs": [],
   "source": [
    "consumer_key = '6Jk8a18siiZoSRHmmFmHYXLdr'\n",
    "consumer_secret = 'wszXRwGPF4iXlLlMe63XTT1TCeznWtjUdIX9udQJ6r0hZVOww0'\n",
    "access_token = '2807187867-fkwOhIeYuaConlrvSytUdoc98oNrIKzr3tGjWSc'\n",
    "access_secret = 'X7N2qF2CW9v0J4hWCuvjJtjHqZNvOGUXcFezJiEjDxIoH'\n",
    " \n",
    "auth = OAuthHandler(consumer_key, consumer_secret)\n",
    "auth.set_access_token(access_token, access_secret)\n",
    " \n",
    "api = tweepy.API(auth)\n",
    "cricTweet = tweepy.Cursor(api.search, q='@OrangeTN').items(500)\n",
    "\n",
    "liste3=[]\n",
    "urls=[]\n",
    "sublist_tweets=[]\n",
    "for tweet in cricTweet:\n",
    "    for url in tweet.entities['urls']:\n",
    "        sublist_tweets.append(url['url']) \n",
    "        liste3.extend(sublist_tweets)\n",
    "        #sublist_tweets=[]\n",
    "#print(liste3)"
   ]
  },
  {
   "cell_type": "code",
   "execution_count": 126,
   "metadata": {},
   "outputs": [
    {
     "data": {
      "text/plain": [
       "595"
      ]
     },
     "execution_count": 126,
     "metadata": {},
     "output_type": "execute_result"
    }
   ],
   "source": [
    "len(liste3)"
   ]
  },
  {
   "cell_type": "code",
   "execution_count": 127,
   "metadata": {},
   "outputs": [
    {
     "data": {
      "text/plain": [
       "225"
      ]
     },
     "execution_count": 127,
     "metadata": {},
     "output_type": "execute_result"
    }
   ],
   "source": [
    "len(l0)"
   ]
  },
  {
   "cell_type": "code",
   "execution_count": null,
   "metadata": {
    "collapsed": true
   },
   "outputs": [],
   "source": [
    "for i in range(0,len(l0)):"
   ]
  },
  {
   "cell_type": "code",
   "execution_count": 128,
   "metadata": {},
   "outputs": [
    {
     "name": "stdout",
     "output_type": "stream",
     "text": [
      "[[\"@orangetn moi je l'attends pas\", 'positive', datetime.datetime(2018, 1, 3, 15, 17, 43), 'https://t.co/qGxJAL94ze'], [\"déploiement #4g 📶📲 début 2018 : \\n @_tunisietelecom  ❤️ allume plus que @ooredootn et @orangetn  \\nbravo à toute l'équipe tt ✌️🖐️\", 'positive', datetime.datetime(2018, 1, 3, 7, 44, 9), 'https://t.co/qGxJAL94ze'], [\"@orangetn bonjour j ai plus que 1d  de solde et je ne peux pas faire d appel \\nmon solde est valide . et ce n'est pa… https://t.co/qgxjal94ze\", 'positive', datetime.datetime(2018, 1, 3, 7, 41, 4), 'https://t.co/R03RVUtuCy'], ['@orangetn 😢😢😢', 'positive', datetime.datetime(2018, 1, 2, 22, 58, 29), 'https://t.co/qGxJAL94ze'], ['rt @orangetn: و انتوما، شنية تختارو؟ 😎🎮🖥 https://t.co/8s2chjoflj', 'positive', datetime.datetime(2018, 1, 2, 11, 7, 18), 'https://t.co/R03RVUtuCy'], ['@orangetn xbox1', 'positive', datetime.datetime(2018, 1, 1, 16, 6), 'https://t.co/R03RVUtuCy'], ['@orangetn  https://t.co/c2llh6ltab', 'positive', datetime.datetime(2018, 1, 1, 1, 24, 39), 'https://t.co/qGxJAL94ze'], ['rt @ou_wwer: يا #توانسة تعملو روتويت و كمنتار تحت التويته متاعي \\nخلينا ندللو على @orangetn باش تعطينا 1000 او 2000 points نعديوهم انترنات 💟…', 'positive', datetime.datetime(2017, 12, 31, 22, 41, 57), 'https://t.co/R03RVUtuCy'], ['@orangetn @ou_wwer انترنات هانا نستناو', 'positive', datetime.datetime(2017, 12, 31, 20, 21, 22), 'https://t.co/R03RVUtuCy'], ['@ou_wwer @orangetn افرح بينا ب 3000 نقطة و مزيد من التألق', 'positive', datetime.datetime(2017, 12, 31, 20, 0, 52), 'https://t.co/RfpNSP1jmA'], ['@orangetn pc', 'positive', datetime.datetime(2017, 12, 31, 19, 58, 57), 'https://t.co/qGxJAL94ze'], ['@orangetn playstation', 'positive', datetime.datetime(2017, 12, 31, 19, 45, 19), 'https://t.co/R03RVUtuCy'], ['rt @orangetn: و انتوما، شنية تختارو؟ 😎🎮🖥 https://t.co/8s2chjoflj', 'positive', datetime.datetime(2017, 12, 31, 19, 44, 43), 'https://t.co/R03RVUtuCy'], ['@orangetn bonne année 2018', 'positive', datetime.datetime(2017, 12, 31, 18, 46, 34), 'https://t.co/RfpNSP1jmA'], ['@orangetn pc gamer https://t.co/lijas4ix0h', 'positive', datetime.datetime(2017, 12, 31, 18, 33, 19), 'https://t.co/YU5EvZn5hf'], ['@anonmrmg @yassozawchi @orangetn بالعكس orange non', 'positive', datetime.datetime(2017, 12, 31, 17, 30, 22), 'https://t.co/qGxJAL94ze'], ['rt @rabouha13: كمشتركة وفية لاحسن مشغل في تونس @orangetn نحبو ندللوا عليكم وتودونا ب1000 نقطة كهدية راس السنة. 😘😘\\n#تونس \\nروتويت يا جماعه و…', 'positive', datetime.datetime(2017, 12, 31, 17, 22, 52), 'https://t.co/R03RVUtuCy'], ['@orangetn that one which is capable of running a game at 120 fps in 4k , you get it right , pc 👌😗', 'positive', datetime.datetime(2017, 12, 31, 15, 28, 2), 'https://t.co/R03RVUtuCy'], ['@ou_wwer @yassozawchi @orangetn الكلها تسرق خاصة في الكونكسيون ... لا امل فاهم', 'negative', datetime.datetime(2017, 12, 31, 15, 14, 35), 'https://t.co/RfpNSP1jmA'], ['rt @orangetn: و انتوما، شنية تختارو؟ 😎🎮🖥 https://t.co/8s2chjoflj', 'positive', datetime.datetime(2017, 12, 31, 14, 20, 9), 'https://t.co/YU5EvZn5hf'], ['rt @ou_wwer: يا #توانسة تعملو روتويت و كمنتار تحت التويته متاعي \\nخلينا ندللو على @orangetn باش تعطينا 1000 او 2000 points نعديوهم انترنات 💟…', 'positive', datetime.datetime(2017, 12, 31, 13, 12, 30), 'https://t.co/ck8Xfx2zXj'], ['rt @ou_wwer: يا #توانسة تعملو روتويت و كمنتار تحت التويته متاعي \\nخلينا ندللو على @orangetn باش تعطينا 1000 او 2000 points نعديوهم انترنات 💟…', 'positive', datetime.datetime(2017, 12, 31, 13, 8, 43), 'https://t.co/qGxJAL94ze'], ['@orangetn 💪😎✌1', 'positive', datetime.datetime(2017, 12, 31, 12, 47, 7), 'https://t.co/R03RVUtuCy'], ['@orangetn merci @orangetn', 'positive', datetime.datetime(2017, 12, 31, 12, 15, 22), 'https://t.co/R03RVUtuCy'], ['@orangetn @ro_ua22 ازاي يا جدع', 'positive', datetime.datetime(2017, 12, 31, 12, 3), 'https://t.co/RfpNSP1jmA'], ['@mehdii_na @orangetn bye bye rou7i talgui el 5ir', 'positive', datetime.datetime(2017, 12, 31, 11, 39, 35), 'https://t.co/YU5EvZn5hf'], ['@rabouha13 @orangetn كل سنه وانتو طيبين سنه جميله وسعيده علي الجميع رب يحقق كل امنياتكم وتكونوا دايما بخير🌹🌿🍁', 'negative', datetime.datetime(2017, 12, 31, 11, 33, 18), 'https://t.co/ck8Xfx2zXj'], ['rt @wanneskawther: شعب متضامن في كل شيء حمدالله \\nمطلب مشترك 😁 \\n@orangetn https://t.co/r03rvutucy', 'positive', datetime.datetime(2017, 12, 31, 11, 13, 48), 'https://t.co/R03RVUtuCy'], ['@yoollaa7 @orangetn oui و اورونج زادة عندها الخاصية هاكي ولكن نحبوها تعطينا من عندها 1000 او 2000 نقطة بمناسبة العام الجديد', 'positive', datetime.datetime(2017, 12, 31, 10, 27, 44), 'https://t.co/qGxJAL94ze'], ['rt @orangetn: و انتوما، شنية تختارو؟ 😎🎮🖥 https://t.co/8s2chjoflj', 'positive', datetime.datetime(2017, 12, 31, 10, 23, 30), 'https://t.co/R03RVUtuCy'], ['@orangetn pc', 'positive', datetime.datetime(2017, 12, 31, 10, 3), 'https://t.co/R03RVUtuCy'], ['rt @orangetn: و انتوما، شنية تختارو؟ 😎🎮🖥 https://t.co/8s2chjoflj', 'positive', datetime.datetime(2017, 12, 31, 10, 2, 45), 'https://t.co/RfpNSP1jmA'], ['@orangetn نديرك أمور سافي بليزير cc @hethamw', 'positive', datetime.datetime(2017, 12, 31, 9, 13, 58), 'https://t.co/YU5EvZn5hf'], ['rt @orangetn: و انتوما، شنية تختارو؟ 😎🎮🖥 https://t.co/8s2chjoflj', 'positive', datetime.datetime(2017, 12, 31, 9, 12, 31), 'https://t.co/ck8Xfx2zXj'], ['rt @orangetn: إن شاء الله عامكم يبدا بالجوْ و الحب و برشة أنترنات 😍🎉🎇🎁\\nتاڨي عشيرك إلي تحب تتمنالو عام مبروك ❤ \\n#newyear #bye2017 #2k18 http…', 'positive', datetime.datetime(2017, 12, 31, 9, 6, 11), 'https://t.co/R03RVUtuCy'], ['@orangetn 58678906', 'positive', datetime.datetime(2017, 12, 31, 8, 39, 40), 'https://t.co/R03RVUtuCy'], ['@ay_menn @orangetn  https://t.co/ssuvds4rxe', 'positive', datetime.datetime(2017, 12, 31, 8, 12, 14), 'https://t.co/qGxJAL94ze'], ['rt @orangetn: @ou_wwer عسلامة يا جماعة، تبعونا ليلة راس العام على facebook بش نفرحو بيكم  😉❤', 'positive', datetime.datetime(2017, 12, 31, 8, 5, 8), 'https://t.co/R03RVUtuCy'], ['rt @wanneskawther: شعب متضامن في كل شيء حمدالله \\nمطلب مشترك 😁 \\n@orangetn https://t.co/r03rvutucy', 'positive', datetime.datetime(2017, 12, 31, 8, 4, 58), 'https://t.co/R03RVUtuCy'], ['rt @ay_menn: @orangetn لأحلى مشغل انترنت في #تونس..\\n أفرح بينا رأس العام🎉🎇،  نفرحو بيك كامل العام..🎈🎈\\nوكل عام وانت بخير وكل عام دللو فينا', 'positive', datetime.datetime(2017, 12, 31, 8, 4, 11), 'https://t.co/RfpNSP1jmA'], ['rt @rabouha13: كمشتركة وفية لاحسن مشغل في تونس @orangetn نحبو ندللوا عليكم وتودونا ب1000 نقطة كهدية راس السنة. 😘😘\\n#تونس \\nروتويت يا جماعه و…', 'positive', datetime.datetime(2017, 12, 31, 8, 3, 45), 'https://t.co/YU5EvZn5hf'], ['rt @orangetn: لترتيب الشهري للأندية الإفريقية ديسمبر 2017 ⚽\\nجمعيتك في أي مرتبة ؟ 🤔\\n#orangefoot https://t.co/1yf5mnzntg', 'negative', datetime.datetime(2017, 12, 31, 7, 55, 1), 'https://t.co/ck8Xfx2zXj'], ['@ou_wwer @orangetn  https://t.co/a7u4ryswvg', 'positive', datetime.datetime(2017, 12, 31, 7, 42, 57), 'https://t.co/R03RVUtuCy'], ['rt @orangetn: لترتيب الشهري للأندية الإفريقية ديسمبر 2017 ⚽\\nجمعيتك في أي مرتبة ؟ 🤔\\n#orangefoot https://t.co/1yf5mnzntg', 'negative', datetime.datetime(2017, 12, 31, 7, 38, 34), 'https://t.co/R03RVUtuCy'], ['rt @orangetn: لترتيب الشهري للأندية الإفريقية ديسمبر 2017 ⚽\\nجمعيتك في أي مرتبة ؟ 🤔\\n#orangefoot https://t.co/1yf5mnzntg', 'negative', datetime.datetime(2017, 12, 31, 7, 36, 46), 'https://t.co/R03RVUtuCy'], ['@orangetn 1 ♥️', 'positive', datetime.datetime(2017, 12, 31, 7, 36, 36), 'https://t.co/qGxJAL94ze'], ['@orangetn اورونج مهناش هدية في راس العام :/ :)', 'positive', datetime.datetime(2017, 12, 31, 7, 8, 37), 'https://t.co/R03RVUtuCy'], ['@orangetn كان تنقصو مالسرقه خير', 'positive', datetime.datetime(2017, 12, 31, 7, 4, 24), 'https://t.co/R03RVUtuCy'], [\"bjr @orangetn c'est normal chez vous d'envoyer des sms promotionnels à 1h20 du matin #foutage_de_gueule\", 'positive', datetime.datetime(2017, 12, 31, 6, 51, 24), 'https://t.co/RfpNSP1jmA'], ['@orangetn حمد الله موش خايب فيه حجات تفرح اما نستناو ما خير ان شاء الله في 2018 و خدمات احسن من عندكم 😉 \\nكل عام حيين بالف خير 🌹🌹', 'positive', datetime.datetime(2017, 12, 31, 6, 50, 41), 'https://t.co/YU5EvZn5hf'], ['@ou_wwer @orangetn 💚', 'positive', datetime.datetime(2017, 12, 31, 6, 21, 24), 'https://t.co/ck8Xfx2zXj'], ['@ou_wwer @orangetn هذ الخاصية موجودة في اوريدو من زمان .وهذو نقاطي  😅 244 نقطة https://t.co/vwlhdqib4g', 'positive', datetime.datetime(2017, 12, 31, 6, 17, 26), 'https://t.co/R03RVUtuCy'], ['rt @ou_wwer: يا #توانسة تعملو روتويت و كمنتار تحت التويته متاعي \\nخلينا ندللو على @orangetn باش تعطينا 1000 او 2000 points نعديوهم انترنات 💟…', 'positive', datetime.datetime(2017, 12, 31, 6, 15, 15), 'https://t.co/R03RVUtuCy'], ['@ou_wwer @orangetn بصراحة.. خدمات اورنج خدمات ممتازة', 'positive', datetime.datetime(2017, 12, 31, 4, 18, 53), 'https://t.co/R03RVUtuCy'], ['rt @ou_wwer: يا #توانسة تعملو روتويت و كمنتار تحت التويته متاعي \\nخلينا ندللو على @orangetn باش تعطينا 1000 او 2000 points نعديوهم انترنات 💟…', 'positive', datetime.datetime(2017, 12, 31, 4, 14, 47), 'https://t.co/RnfB3cxkXn'], ['@ou_wwer @orangetn كيفاش ندللوها ات ندللوها و ندللو اللي يخدموا فيها 😂😂😂 غير تعطينا شوية انترنت نتمتعوا بيها', 'positive', datetime.datetime(2017, 12, 31, 4, 9, 2), 'https://t.co/qGxJAL94ze'], ['rt @ou_wwer: يا #توانسة تعملو روتويت و كمنتار تحت التويته متاعي \\nخلينا ندللو على @orangetn باش تعطينا 1000 او 2000 points نعديوهم انترنات 💟…', 'positive', datetime.datetime(2017, 12, 31, 4, 7, 59), 'https://t.co/R03RVUtuCy'], ['@ou_wwer @orangetn ok\\nmr6 b1\\nوان شاء الله عام مبارك عليك و علي جميع التوانسه', 'positive', datetime.datetime(2017, 12, 31, 2, 18, 24), 'https://t.co/R03RVUtuCy'], ['@ou_wwer @rabouha13 @orangetn @nassim_raissi اوكي', 'positive', datetime.datetime(2017, 12, 31, 1, 12, 41), 'https://t.co/RfpNSP1jmA'], ['@afefgharbitv @rabouha13 @orangetn @nassim_raissi اني عندي ارقامو ايجا مساجات عزيزتي ربي يخليك', 'positive', datetime.datetime(2017, 12, 31, 1, 12, 16), 'https://t.co/YU5EvZn5hf'], ['rt @afefgharbitv: @rabouha13 @ou_wwer @orangetn @nassim_raissi لازم انلوج على ارقامو ضاعو مني .. ان شاء الله عن قريب نوعدكم 💗💝💞', 'positive', datetime.datetime(2017, 12, 31, 1, 11, 38), 'https://t.co/ck8Xfx2zXj'], ['rt @ou_wwer: @afefgharbitv @rabouha13 @orangetn معللمة \\nبربي عندي ليك طلب وان شاءالله تقبل \\nفمة شاب تونسي صوتو طربي بامتياز هو نسيم رايسي ت…', 'positive', datetime.datetime(2017, 12, 31, 1, 10, 55), 'https://t.co/R03RVUtuCy'], ['rt @afefgharbitv: @ou_wwer @rabouha13 @orangetn @nassim_raissi نعرفو طبعا نسيم من احلى الاصوات ، ما فهمتش علاش غاب جمله واحده ..', 'positive', datetime.datetime(2017, 12, 31, 1, 10, 41), 'https://t.co/R03RVUtuCy'], ['@afefgharbitv @rabouha13 @orangetn @nassim_raissi ياااا تعرفووو شفتو علاش نحبها عفاف خاطر تخمامنا كيف كيف عسللللل و… https://t.co/rfpnsp1jma', 'positive', datetime.datetime(2017, 12, 31, 1, 10, 37), 'https://t.co/R03RVUtuCy'], ['@rabouha13 @ou_wwer @orangetn @nassim_raissi لازم انلوج على ارقامو ضاعو مني .. ان شاء الله عن قريب نوعدكم 💗💝💞', 'positive', datetime.datetime(2017, 12, 31, 1, 7, 16), 'https://t.co/RnfB3cxkXn'], ['@ou_wwer @rabouha13 @orangetn @nassim_raissi نعرفو طبعا نسيم من احلى الاصوات ، ما فهمتش علاش غاب جمله واحده ..', 'positive', datetime.datetime(2017, 12, 31, 1, 6, 13), 'https://t.co/7P1MlpUlxX'], ['rt @rabouha13: @ou_wwer @afefgharbitv @orangetn @nassim_raissi وي بالرسمي هذه اقوى حكاية تنجم تحققهالنا الحب عفاف الغربي انها تستضيف نسيم ر…', 'positive', datetime.datetime(2017, 12, 31, 1, 4, 2), 'https://t.co/qGxJAL94ze'], ['@ou_wwer @afefgharbitv @orangetn @nassim_raissi وي بالرسمي هذه اقوى حكاية تنجم تحققهالنا الحب عفاف الغربي انها تستض… https://t.co/yu5evzn5hf', 'positive', datetime.datetime(2017, 12, 31, 1, 2, 51), 'https://t.co/R03RVUtuCy'], ['@afefgharbitv @ou_wwer @orangetn يخليلي زينك ياعمري', 'positive', datetime.datetime(2017, 12, 31, 1, 1, 39), 'https://t.co/R03RVUtuCy'], ['rt @afefgharbitv: @rabouha13 @ou_wwer هاني عملت عزيزتي .. تستاهل @orangetn  ديما مسهله علينا الدنيا ❤️', 'positive', datetime.datetime(2017, 12, 31, 1, 1, 20), 'https://t.co/RfpNSP1jmA'], ['rt @ou_wwer: @afefgharbitv @rabouha13 @orangetn معللمة \\nبربي عندي ليك طلب وان شاءالله تقبل \\nفمة شاب تونسي صوتو طربي بامتياز هو نسيم رايسي ت…', 'positive', datetime.datetime(2017, 12, 31, 1, 1, 16), 'https://t.co/YU5EvZn5hf'], ['@afefgharbitv @rabouha13 @orangetn معللمة \\nبربي عندي ليك طلب وان شاءالله تقبل \\nفمة شاب تونسي صوتو طربي بامتياز هو ن… https://t.co/ck8xfx2zxj', 'positive', datetime.datetime(2017, 12, 31, 1, 0, 12), 'https://t.co/ck8Xfx2zXj'], ['rt @afefgharbitv: @rabouha13 @ou_wwer هاني عملت عزيزتي .. تستاهل @orangetn  ديما مسهله علينا الدنيا ❤️', 'positive', datetime.datetime(2017, 12, 31, 0, 58, 40), 'https://t.co/R03RVUtuCy'], ['@rabouha13 @ou_wwer هاني عملت عزيزتي .. تستاهل @orangetn  ديما مسهله علينا الدنيا ❤️', 'positive', datetime.datetime(2017, 12, 31, 0, 57, 36), 'https://t.co/R03RVUtuCy'], ['rt @wanneskawther: شعب متضامن في كل شيء حمدالله \\nمطلب مشترك 😁 \\n@orangetn https://t.co/r03rvutucy', 'positive', datetime.datetime(2017, 12, 31, 0, 56, 46), 'https://t.co/R03RVUtuCy'], ['@orangetn 4', 'positive', datetime.datetime(2017, 12, 31, 0, 50, 15), 'https://t.co/RnfB3cxkXn'], ['rt @ay_menn: @orangetn لأحلى مشغل انترنت في #تونس..\\n أفرح بينا رأس العام🎉🎇،  نفرحو بيك كامل العام..🎈🎈\\nوكل عام وانت بخير وكل عام دللو فينا', 'positive', datetime.datetime(2017, 12, 31, 0, 44, 10), 'https://t.co/7P1MlpUlxX'], ['rt @rabouha13: كمشتركة وفية لاحسن مشغل في تونس @orangetn نحبو ندللوا عليكم وتودونا ب1000 نقطة كهدية راس السنة. 😘😘\\n#تونس \\nروتويت يا جماعه و…', 'positive', datetime.datetime(2017, 12, 31, 0, 43, 55), 'https://t.co/Up92sM1Y36'], ['rt @rabouha13: @orangetn @ou_wwer اورونج ايا وافق واعطينا 1000 نقطة', 'positive', datetime.datetime(2017, 12, 31, 0, 43, 35), 'https://t.co/qGxJAL94ze'], ['rt @ay_menn: @orangetn لأحلى مشغل انترنت في #تونس..\\n أفرح بينا رأس العام🎉🎇،  نفرحو بيك كامل العام..🎈🎈\\nوكل عام وانت بخير وكل عام دللو فينا', 'positive', datetime.datetime(2017, 12, 31, 0, 43, 18), 'https://t.co/R03RVUtuCy'], ['@wanneskawther @orangetn 😂😂😂😂', 'positive', datetime.datetime(2017, 12, 31, 0, 35, 42), 'https://t.co/R03RVUtuCy'], ['rt @wanneskawther: شعب متضامن في كل شيء حمدالله \\nمطلب مشترك 😁 \\n@orangetn https://t.co/r03rvutucy', 'positive', datetime.datetime(2017, 12, 31, 0, 35, 26), 'https://t.co/RfpNSP1jmA'], ['rt @ay_menn: @orangetn لأحلى مشغل انترنت في #تونس..\\n أفرح بينا رأس العام🎉🎇،  نفرحو بيك كامل العام..🎈🎈\\nوكل عام وانت بخير وكل عام دللو فينا', 'positive', datetime.datetime(2017, 12, 31, 0, 33, 54), 'https://t.co/YU5EvZn5hf'], ['rt @ay_menn: @orangetn لأحلى مشغل انترنت في #تونس..\\n أفرح بينا رأس العام🎉🎇،  نفرحو بيك كامل العام..🎈🎈\\nوكل عام وانت بخير وكل عام دللو فينا', 'positive', datetime.datetime(2017, 12, 31, 0, 32, 29), 'https://t.co/ck8Xfx2zXj'], ['شعب متضامن في كل شيء حمدالله \\nمطلب مشترك 😁 \\n@orangetn https://t.co/r03rvutucy', 'positive', datetime.datetime(2017, 12, 31, 0, 32, 25), 'https://t.co/R03RVUtuCy'], ['الي عندو ligne orange \\nاكتب في تويته رساله لاورونج باش تعطينا نقاط نحولوهم انترنات واي واحد يعمل تويته نعملولو روتو… https://t.co/rnfb3cxkxn', 'positive', datetime.datetime(2017, 12, 31, 0, 30, 36), 'https://t.co/R03RVUtuCy'], ['@orangetn لأحلى مشغل انترنت في #تونس..\\n أفرح بينا رأس العام🎉🎇،  نفرحو بيك كامل العام..🎈🎈\\nوكل عام وانت بخير وكل عام دللو فينا', 'positive', datetime.datetime(2017, 12, 31, 0, 27, 41), 'https://t.co/R03RVUtuCy'], ['rt @rabouha13: @orangetn @ou_wwer اورونج ايا وافق واعطينا 1000 نقطة', 'positive', datetime.datetime(2017, 12, 31, 0, 27, 31), 'https://t.co/RnfB3cxkXn'], ['@orangetn @ou_wwer اورونج ايا وافق واعطينا 1000 نقطة', 'positive', datetime.datetime(2017, 12, 31, 0, 25, 53), 'https://t.co/7P1MlpUlxX'], ['rt @orangetn: @ou_wwer عسلامة يا جماعة، تبعونا ليلة راس العام على facebook بش نفرحو بيكم  😉❤', 'positive', datetime.datetime(2017, 12, 31, 0, 25, 28), 'https://t.co/Up92sM1Y36'], ['rt @rabouha13: كمشتركة وفية لاحسن مشغل في تونس @orangetn نحبو ندللوا عليكم وتودونا ب1000 نقطة كهدية راس السنة. 😘😘\\n#تونس \\nروتويت يا جماعه و…', 'positive', datetime.datetime(2017, 12, 31, 0, 23, 11), 'https://t.co/T02IQx7AQ4'], ['rt @rabouha13: كمشتركة وفية لاحسن مشغل في تونس @orangetn نحبو ندللوا عليكم وتودونا ب1000 نقطة كهدية راس السنة. 😘😘\\n#تونس \\nروتويت يا جماعه و…', 'positive', datetime.datetime(2017, 12, 31, 0, 22, 2), 'https://t.co/qGxJAL94ze'], ['rt @rabouha13: كمشتركة وفية لاحسن مشغل في تونس @orangetn نحبو ندللوا عليكم وتودونا ب1000 نقطة كهدية راس السنة. 😘😘\\n#تونس \\nروتويت يا جماعه و…', 'positive', datetime.datetime(2017, 12, 31, 0, 15, 57), 'https://t.co/R03RVUtuCy'], ['كمشتركة وفية لاحسن مشغل في تونس @orangetn نحبو ندللوا عليكم وتودونا ب1000 نقطة كهدية راس السنة. 😘😘\\n#تونس \\nروتويت يا… https://t.co/7p1mlpulxx', 'positive', datetime.datetime(2017, 12, 31, 0, 15, 24), 'https://t.co/R03RVUtuCy'], ['rt @ou_wwer: يا #توانسة تعملو روتويت و كمنتار تحت التويته متاعي \\nخلينا ندللو على @orangetn باش تعطينا 1000 او 2000 points نعديوهم انترنات 💟…', 'positive', datetime.datetime(2017, 12, 31, 0, 12, 30), 'https://t.co/RfpNSP1jmA'], ['@orangetn تيكي لمدريد!هذا الكل حكايات فارغة!', 'negative', datetime.datetime(2017, 12, 31, 0, 7, 26), 'https://t.co/YU5EvZn5hf'], ['@ou_wwer @orangetn 😹😹😹😹هزني معاك وقت تمشي 😂👋', 'positive', datetime.datetime(2017, 12, 31, 0, 6, 8), 'https://t.co/ck8Xfx2zXj'], ['@ou_wwer @orangetn 💃💃💃💃💃', 'positive', datetime.datetime(2017, 12, 31, 0, 5, 31), 'https://t.co/R03RVUtuCy'], ['rt @ou_wwer: يا #توانسة تعملو روتويت و كمنتار تحت التويته متاعي \\nخلينا ندللو على @orangetn باش تعطينا 1000 او 2000 points نعديوهم انترنات 💟…', 'positive', datetime.datetime(2017, 12, 31, 0, 4, 56), 'https://t.co/R03RVUtuCy'], ['@khaoula_morata @orangetn باش تشيخنا انترنات هههه', 'positive', datetime.datetime(2017, 12, 31, 0, 2, 38), 'https://t.co/R03RVUtuCy'], ['@orangetn @ou_wwer نفرحو بيكم عندها برشا معاني 😶🤕', 'positive', datetime.datetime(2017, 12, 31, 0, 1, 47), 'https://t.co/RnfB3cxkXn'], ['rt @orangetn: @ou_wwer عسلامة يا جماعة، تبعونا ليلة راس العام على facebook بش نفرحو بيكم  😉❤', 'positive', datetime.datetime(2017, 12, 31, 0, 1, 43), 'https://t.co/7P1MlpUlxX'], ['@orangetn \\nديمة مدللتنا شفتو كيفاش وافقت وباش تعطينا des points internet \\nمع اورونج موش حتقدر تغمض عينيك 😘😘😘 \\n#تونس… https://t.co/up92sm1y36', 'positive', datetime.datetime(2017, 12, 31, 0, 1, 39), 'https://t.co/Up92sM1Y36'], ['@orangetn بوزينكم عسللل هانا نستناو 😍😘', 'positive', datetime.datetime(2017, 12, 30, 23, 58, 39), 'https://t.co/T02IQx7AQ4'], ['rt @fatmaca4: @ou_wwer @orangetn غير @orangetn  ماعناد حد يدلنلنا معملبين عليها تفرح بينا \\n 1000 او 2000 points نعديوهم انترنات 💟💟\\n#orange_…', 'positive', datetime.datetime(2017, 12, 30, 23, 58, 11), 'https://t.co/Yaj20l0riH'], ['@hkh0dywq2mbpoae @orangetn تعمل *112# و تبع المراحل', 'positive', datetime.datetime(2017, 12, 30, 23, 57, 48), 'https://t.co/qGxJAL94ze'], [\"@ou_wwer @orangetn moi aussi j'adore orange\", 'positive', datetime.datetime(2017, 12, 30, 23, 22, 6), 'https://t.co/R03RVUtuCy'], ['@ou_wwer @orangetn بالله شنوه code لتنجم  transformé به les points', 'positive', datetime.datetime(2017, 12, 30, 22, 58, 53), 'https://t.co/R03RVUtuCy'], ['@orangetn 51911', 'positive', datetime.datetime(2017, 12, 30, 22, 49, 25), 'https://t.co/RfpNSP1jmA'], [\"@orangetn c'est 51911\", 'positive', datetime.datetime(2017, 12, 30, 22, 23, 21), 'https://t.co/YU5EvZn5hf'], ['rt @orangetn: و انتوما، شنية تختارو؟ 😎🎮🖥 https://t.co/8s2chjoflj', 'positive', datetime.datetime(2017, 12, 30, 22, 19, 28), 'https://t.co/ck8Xfx2zXj'], [\"@ahlemhc @orangetn bonsoir @ahlemhc  nous nous excusons pour le désagrément, merci de nous envoyer le numéro de l'a… https://t.co/t02iqx7aq4\", 'positive', datetime.datetime(2017, 12, 30, 22, 16, 34), 'https://t.co/R03RVUtuCy'], ['rt @orangetn: و انتوما، شنية تختارو؟ 😎🎮🖥 https://t.co/8s2chjoflj', 'positive', datetime.datetime(2017, 12, 30, 21, 49, 37), 'https://t.co/R03RVUtuCy'], [\"rt @ahlemhc: le cadeau qui me ferait plaisir: que l'adsl se remette à fonctionner correctement à ennasr @orangetn @_tunisietelecom\", 'positive', datetime.datetime(2017, 12, 30, 21, 22, 37), 'https://t.co/R03RVUtuCy'], ['@orangetn pc', 'positive', datetime.datetime(2017, 12, 30, 21, 6, 12), 'https://t.co/RnfB3cxkXn'], ['@karim2k @ahlemhc @orangetn @_tunisietelecom le côté dépriment de la tunisie.', 'positive', datetime.datetime(2017, 12, 30, 20, 52, 32), 'https://t.co/7P1MlpUlxX'], [\"rt @ahlemhc: le cadeau qui me ferait plaisir: que l'adsl se remette à fonctionner correctement à ennasr @orangetn @_tunisietelecom\", 'positive', datetime.datetime(2017, 12, 30, 20, 50, 58), 'https://t.co/Up92sM1Y36'], ['@ahlemhc @orangetn @_tunisietelecom les choses simples qui se transforment en exploit!', 'positive', datetime.datetime(2017, 12, 30, 20, 25, 35), 'https://t.co/T02IQx7AQ4'], ['@orangetn كي نصوتو نربحو يعني يتساءل مراقيبون 🤔🤔🤔🤔😜', 'positive', datetime.datetime(2017, 12, 30, 19, 37, 32), 'https://t.co/Yaj20l0riH'], ['rt @orangetn: و انتوما، شنية تختارو؟ 😎🎮🖥 https://t.co/8s2chjoflj', 'positive', datetime.datetime(2017, 12, 30, 18, 55, 13), 'https://t.co/NCNpJJP60g'], ['@orangetn للربح معناها ولا ايه ؟', 'positive', datetime.datetime(2017, 12, 30, 18, 54, 19), 'https://t.co/qGxJAL94ze'], ['@marooo40415125 @ou_wwer @orangetn مافيش حل يرجع؟', 'positive', datetime.datetime(2017, 12, 30, 14, 17, 14), 'https://t.co/R03RVUtuCy'], ['@khaoula_morata @ou_wwer @orangetn اة. عملوا ريبورتات وبلوكة واتقفل😢😢البلاحوية كلهم', 'negative', datetime.datetime(2017, 12, 30, 14, 13, 54), 'https://t.co/R03RVUtuCy'], ['@marooo40415125 @ou_wwer @orangetn :(( ماحاولتش ترجعو؟؟ مين الكلب يلي سرقو احباء بلحة؟ :(', 'negative', datetime.datetime(2017, 12, 30, 14, 12, 52), 'https://t.co/RfpNSP1jmA'], ['@khaoula_morata @ou_wwer @orangetn انامارنجوس 😞', 'positive', datetime.datetime(2017, 12, 30, 14, 8, 19), 'https://t.co/YU5EvZn5hf'], ['@marooo40415125 @ou_wwer @orangetn 🤣🤣🤣🤣🤣🤣🤣 حساب مين يلي اتسرق؟😕', 'positive', datetime.datetime(2017, 12, 30, 14, 2, 53), 'https://t.co/ck8Xfx2zXj'], ['@marooo40415125 @ou_wwer @orangetn 🤣🤣🤣🤣🤣يلا بينا ياض', 'positive', datetime.datetime(2017, 12, 30, 14, 2, 9), 'https://t.co/R03RVUtuCy'], ['@khaoula_morata @ou_wwer @orangetn يلاا عشان مسافرين المانيا ياموراتا😂😂😂😂', 'positive', datetime.datetime(2017, 12, 30, 14, 0, 35), 'https://t.co/R03RVUtuCy'], ['rt @ou_wwer: يا #توانسة تعملو روتويت و كمنتار تحت التويته متاعي \\nخلينا ندللو على @orangetn باش تعطينا 1000 او 2000 points نعديوهم انترنات 💟…', 'positive', datetime.datetime(2017, 12, 30, 13, 57, 56), 'https://t.co/R03RVUtuCy'], ['@khaoula_morata @ou_wwer @orangetn هماعشان حسابي اتسرق بيتشطروا عليكم😂😂', 'positive', datetime.datetime(2017, 12, 30, 13, 57, 46), 'https://t.co/RnfB3cxkXn'], ['@ou_wwer @orangetn وكان ماعطتناش نأدبوها؟😹', 'positive', datetime.datetime(2017, 12, 30, 13, 54, 34), 'https://t.co/7P1MlpUlxX'], ['@ou_wwer @orangetn غير @orangetn  ماعناد حد يدلنلنا معملبين عليها تفرح بينا \\n 1000 او 2000 points نعديوهم انترنات 💟… https://t.co/yaj20l0rih', 'positive', datetime.datetime(2017, 12, 30, 13, 44, 47), 'https://t.co/Up92sM1Y36'], ['rt @ou_wwer: يا #توانسة تعملو روتويت و كمنتار تحت التويته متاعي \\nخلينا ندللو على @orangetn باش تعطينا 1000 او 2000 points نعديوهم انترنات 💟…', 'positive', datetime.datetime(2017, 12, 30, 13, 44, 8), 'https://t.co/T02IQx7AQ4'], ['@ranimyussef @orangetn يلا جووو هههه', 'positive', datetime.datetime(2017, 12, 30, 13, 43, 55), 'https://t.co/Yaj20l0riH'], ['@free_pen_tn @orangetn بالعكس المرة الي فاتت عطاتنا هههه \\nيلا شوية كوراج', 'negative', datetime.datetime(2017, 12, 30, 13, 43, 22), 'https://t.co/NCNpJJP60g'], ['rt @ou_wwer: يا #توانسة تعملو روتويت و كمنتار تحت التويته متاعي \\nخلينا ندللو على @orangetn باش تعطينا 1000 او 2000 points نعديوهم انترنات 💟…', 'positive', datetime.datetime(2017, 12, 30, 13, 42, 30), 'https://t.co/pdCW2Nty6K'], ['@fatmaca4 @orangetn يلا مريقل', 'positive', datetime.datetime(2017, 12, 30, 13, 41, 51), 'https://t.co/qGxJAL94ze'], ['@ou_wwer @orangetn ممكن صمبة بورقيبة تمدلنا 20 دينار قبل ما تعبّرنا أورونج.', 'positive', datetime.datetime(2017, 12, 30, 13, 39, 49), 'https://t.co/R03RVUtuCy'], ['@ou_wwer @orangetn انا بيدي ناوية ناخو pus orange 😀', 'positive', datetime.datetime(2017, 12, 30, 13, 37, 32), 'https://t.co/R03RVUtuCy'], ['@ou_wwer @orangetn نعاونك على اورنجوتعاوني على اوريدو', 'positive', datetime.datetime(2017, 12, 30, 13, 36, 24), 'https://t.co/RfpNSP1jmA'], ['rt @ou_wwer: يا #توانسة تعملو روتويت و كمنتار تحت التويته متاعي \\nخلينا ندللو على @orangetn باش تعطينا 1000 او 2000 points نعديوهم انترنات 💟…', 'positive', datetime.datetime(2017, 12, 30, 13, 36, 17), 'https://t.co/YU5EvZn5hf'], ['يا #توانسة تعملو روتويت و كمنتار تحت التويته متاعي \\nخلينا ندللو على @orangetn باش تعطينا 1000 او 2000 points نعديوه… https://t.co/ncnpjjp60g', 'positive', datetime.datetime(2017, 12, 30, 13, 33, 11), 'https://t.co/ck8Xfx2zXj'], ['@orangetn حشيناهولنا by kly bbj et phenix', 'positive', datetime.datetime(2017, 12, 30, 10, 21, 26), 'https://t.co/R03RVUtuCy'], ['@orangetn 51 911', 'positive', datetime.datetime(2017, 12, 30, 8, 49, 41), 'https://t.co/R03RVUtuCy'], ['@orangetn al borken by klay bbj', 'negative', datetime.datetime(2017, 12, 30, 1, 35, 43), 'https://t.co/R03RVUtuCy'], ['@orangetn bye bye', 'negative', datetime.datetime(2017, 12, 30, 0, 9, 21), 'https://t.co/RnfB3cxkXn'], ['@orangetn ياحمامه طارت 😂', 'positive', datetime.datetime(2017, 12, 29, 22, 53, 25), 'https://t.co/7P1MlpUlxX'], ['@orangetn واش لزك عالمر 😂😂', 'positive', datetime.datetime(2017, 12, 29, 20, 37, 40), 'https://t.co/Up92sM1Y36'], ['@orangetn كيف كان عمري عشرين', 'positive', datetime.datetime(2017, 12, 29, 20, 14, 34), 'https://t.co/T02IQx7AQ4'], ['@orangetn الأيام تجري و العمر خسارة، الفم يضحك و الڨلب فيه احزان', 'positive', datetime.datetime(2017, 12, 29, 20, 14, 9), 'https://t.co/Yaj20l0riH'], ['@orangetn orange tejri wel 4g 3jeja 🎼🎶🎤🎷🎸🎹🎺🎻', 'positive', datetime.datetime(2017, 12, 29, 20, 12, 56), 'https://t.co/NCNpJJP60g'], ['@orangetn layem kif ri7', 'positive', datetime.datetime(2017, 12, 29, 19, 16, 12), 'https://t.co/pdCW2Nty6K'], ['@orangetn and \\nhttps://t.co/pdcw2nty6k', 'positive', datetime.datetime(2017, 12, 29, 19, 6, 22), 'https://t.co/mWtIFRlygU'], ['@orangetn 😎😂\\nhttps://t.co/mwtifrlygu', 'positive', datetime.datetime(2017, 12, 29, 19, 3, 47), 'https://t.co/qGxJAL94ze'], [\"le cadeau qui me ferait plaisir: que l'adsl se remette à fonctionner correctement à ennasr @orangetn @_tunisietelecom\", 'positive', datetime.datetime(2017, 12, 29, 16, 26, 50), 'https://t.co/R03RVUtuCy'], ['@orangetn c fait ...', 'positive', datetime.datetime(2017, 12, 29, 14, 32, 45), 'https://t.co/R03RVUtuCy'], ['rt @orangetn: avez-vous déjà vu de la sculpture sur banane ? 🍌🤔 maintenant oui!  😄\\nc’est l’artiste #stephanbrusche qui sculpte des bananes…', 'positive', datetime.datetime(2017, 12, 29, 9, 28, 27), 'https://t.co/RfpNSP1jmA'], ['@orangetn 51911', 'positive', datetime.datetime(2017, 12, 29, 9, 5, 29), 'https://t.co/YU5EvZn5hf'], [\"@adel_0 @al_pacino_ @kiffegrave @meryemmarzouki @orangetn haouka ils t'on demandé tes coordonnées....\", 'positive', datetime.datetime(2017, 12, 29, 8, 12, 30), 'https://t.co/ck8Xfx2zXj'], ['@ja3far2012 @al_pacino_ @kiffegrave @meryemmarzouki @orangetn ils ont des pbs d’adsl qu’ils ne veulent pas avouer, comme toujours', 'positive', datetime.datetime(2017, 12, 29, 8, 10, 45), 'https://t.co/R03RVUtuCy'], ['@ja3far2012 @al_pacino_ @kiffegrave @meryemmarzouki @orangetn je viens de les changer, câbles pour telecom!', 'positive', datetime.datetime(2017, 12, 29, 8, 10, 43), 'https://t.co/R03RVUtuCy'], [\"@adel_0 @al_pacino_ @kiffegrave @meryemmarzouki @orangetn branché en direct=marche jamais, y'a des filtres dedans d… https://t.co/cu1iobqayy\", 'positive', datetime.datetime(2017, 12, 28, 21, 10, 13), 'https://t.co/R03RVUtuCy'], ['@ja3far2012 @al_pacino_ @kiffegrave @meryemmarzouki @orangetn je l’ai changé plusieurs fois, branché en direct innéfa3 allah', 'positive', datetime.datetime(2017, 12, 28, 21, 5, 25), 'https://t.co/RnfB3cxkXn'], [\"@adel_0 @al_pacino_ @kiffegrave @meryemmarzouki @orangetn dis...t'as contrôlé ton splitter ?  essaye de le remplace… https://t.co/4cj9rwe7n5\", 'positive', datetime.datetime(2017, 12, 28, 20, 54, 28), 'https://t.co/7P1MlpUlxX'], ['@adel_0 @al_pacino_ @kiffegrave @meryemmarzouki @orangetn ton snr du serveur télécom est merdique, tu devrais avoir… https://t.co/rwsipcbrqq', 'positive', datetime.datetime(2017, 12, 28, 20, 48, 47), 'https://t.co/Up92sM1Y36'], ['@al_pacino_ @kiffegrave @ja3far2012 @meryemmarzouki @orangetn transport par tube pneumatique c’est vachement plus e… https://t.co/4l28rfaild', 'positive', datetime.datetime(2017, 12, 28, 20, 46, 3), 'https://t.co/T02IQx7AQ4'], [\"@adel_0 @kiffegrave @ja3far2012 @meryemmarzouki @orangetn c'est quoi ça? non mais c'est du bas débit 😂\", 'positive', datetime.datetime(2017, 12, 28, 20, 39, 39), 'https://t.co/Yaj20l0riH'], ['@al_pacino_ @kiffegrave @ja3far2012 @meryemmarzouki msalli 3annibi, il a fallu installer un radiateur sur le modem… https://t.co/xzr2ju0kip', 'positive', datetime.datetime(2017, 12, 28, 20, 38, 26), 'https://t.co/NCNpJJP60g'], ['rt @orangetn: avez-vous déjà vu de la sculpture sur banane ? 🍌🤔 maintenant oui!  😄\\nc’est l’artiste #stephanbrusche qui sculpte des bananes…', 'positive', datetime.datetime(2017, 12, 28, 20, 28, 49), 'https://t.co/pdCW2Nty6K'], ['rt @orangetn: #google vient de lancer sa nouvelle application #storyboard qui transforme les photos et vidéos en de véritables planches de…', 'positive', datetime.datetime(2017, 12, 28, 20, 10, 50), 'https://t.co/mWtIFRlygU'], ['@orangetn fait par dm', 'positive', datetime.datetime(2017, 12, 28, 8, 35, 51), 'https://t.co/Cu1iobQayY'], ['@orangetn 17 minute en attente que votre support décroche, rien.. https://t.co/p8cost7o5x', 'positive', datetime.datetime(2017, 12, 28, 8, 35, 19), 'https://t.co/qGxJAL94ze'], [\"and just like that, you know that you're going to have a shity day. thank you @orangetn https://t.co/xr1kqxmpls\", 'positive', datetime.datetime(2017, 12, 28, 8, 12, 33), 'https://t.co/R03RVUtuCy'], ['@orangetn 51911', 'positive', datetime.datetime(2017, 12, 28, 3, 22, 25), 'https://t.co/R03RVUtuCy'], [\"@orangetn je télécharge cette application géniale, j'espère gagner ce smartphone magnifique et l'offrir à ma femme… https://t.co/rsefi7ixww\", 'positive', datetime.datetime(2017, 12, 27, 19, 43, 20), 'https://t.co/RfpNSP1jmA'], [\"@orangetn c'est une bonne idée, application fantastique\", 'positive', datetime.datetime(2017, 12, 27, 19, 40, 23), 'https://t.co/YU5EvZn5hf'], ['@orangetn  https://t.co/fnzijtv8a5', 'positive', datetime.datetime(2017, 12, 27, 19, 39, 54), 'https://t.co/ck8Xfx2zXj'], ['@orangetn  https://t.co/ftp7n8bpik', 'positive', datetime.datetime(2017, 12, 27, 19, 39, 46), 'https://t.co/R03RVUtuCy'], ['@orangetn 4', 'positive', datetime.datetime(2017, 12, 27, 16, 13, 50), 'https://t.co/R03RVUtuCy'], ['@adel_0 @ja3far2012 @lechatquirit @orangetn @topnet_fsi @_tunisietelecom ceci pourrait expliquer mon problème', 'positive', datetime.datetime(2017, 12, 27, 15, 58, 25), 'https://t.co/R03RVUtuCy'], ['@adel_0 @ja3far2012 @ahlemhc @orangetn @topnet_fsi @_tunisietelecom ma zone est pas couverte et pourtant je suis a… https://t.co/virrg6feav', 'positive', datetime.datetime(2017, 12, 27, 15, 39, 16), 'https://t.co/RnfB3cxkXn'], ['@ja3far2012 @lechatquirit @ahlemhc @orangetn @topnet_fsi @_tunisietelecom y a aussi la fibre', 'positive', datetime.datetime(2017, 12, 27, 15, 2, 2), 'https://t.co/7P1MlpUlxX'], ['@lechatquirit @ja3far2012 @ahlemhc @orangetn @topnet_fsi @_tunisietelecom on avance minn téli :-(((', 'positive', datetime.datetime(2017, 12, 27, 15, 1, 36), 'https://t.co/Up92sM1Y36'], ['@lechatquirit @adel_0 @ahlemhc @orangetn @topnet_fsi @_tunisietelecom si! la bêtise et le vandalisme! on pourrait en revendre...', 'positive', datetime.datetime(2017, 12, 27, 14, 55, 34), 'https://t.co/T02IQx7AQ4'], [\"@adel_0 @lechatquirit @ahlemhc @orangetn @topnet_fsi @_tunisietelecom cool! t'arrives, t'installes un bypass et t'as l'internet gratos :d\", 'positive', datetime.datetime(2017, 12, 27, 14, 54, 41), 'https://t.co/Yaj20l0riH'], [\"@adel_0 @ja3far2012 @ahlemhc @orangetn @topnet_fsi @_tunisietelecom j'ai l'impression que rien n'avance dans ce bled :-)\", 'positive', datetime.datetime(2017, 12, 27, 14, 29, 39), 'https://t.co/NCNpJJP60g'], ['rt @adel_0: @ja3far2012 @lechatquirit @ahlemhc @orangetn @topnet_fsi voyez l’armoire tt du côté de cité ennasr pas loin de la station servi…', 'positive', datetime.datetime(2017, 12, 27, 14, 22, 19), 'https://t.co/pdCW2Nty6K'], ['@ja3far2012 @lechatquirit @ahlemhc @orangetn @topnet_fsi voyez l’armoire tt du côté de cité ennasr pas loin de la s… https://t.co/33h4g9wfwz', 'positive', datetime.datetime(2017, 12, 27, 14, 19, 26), 'https://t.co/mWtIFRlygU'], [\"@adel_0 @ahlemhc @orangetn @topnet_fsi @welidnaffati j'ai vu les 2 articles de @welidnaffati et ca m'etonne encore.… https://t.co/fmdtlmva5u\", 'positive', datetime.datetime(2017, 12, 27, 14, 9, 2), 'https://t.co/Cu1iobQayY'], [\"@lechatquirit @adel_0 @ahlemhc @orangetn @topnet_fsi j'en ai eu une, c'est devenu normal..\\nils ont introduit leur m… https://t.co/y7ebcmpq9p\", 'positive', datetime.datetime(2017, 12, 27, 14, 4, 57), 'https://t.co/4cj9RWe7N5'], ['@lechatquirit @ahlemhc @orangetn @topnet_fsi @welidnaffati https://t.co/b1wsu8udw1', 'positive', datetime.datetime(2017, 12, 27, 14, 4, 20), 'https://t.co/qGxJAL94ze'], ['@lechatquirit @ahlemhc @orangetn @topnet_fsi c’est eux-mêmes qui le disent en plus y a cet article sérieux de @welidnaffati', 'positive', datetime.datetime(2017, 12, 27, 14, 4, 3), 'https://t.co/R03RVUtuCy'], ['@adel_0 @ahlemhc @orangetn @topnet_fsi une attaque contre des modems de particuliers ? ca tient pas du tout debout… https://t.co/ie1aijl6on', 'positive', datetime.datetime(2017, 12, 27, 14, 1, 53), 'https://t.co/R03RVUtuCy'], ['@lechatquirit @ahlemhc @orangetn en plus @orangetn comme @topnet_fsi ont de graves soucis avec l’attaque que subiss… https://t.co/z9echlgabs', 'positive', datetime.datetime(2017, 12, 27, 13, 56, 49), 'https://t.co/RfpNSP1jmA'], ['rt @ahlemhc: pareil avec @orangetn https://t.co/q0ra9ibrxv', 'positive', datetime.datetime(2017, 12, 27, 13, 53, 36), 'https://t.co/YU5EvZn5hf'], ['@ahlemhc @orangetn le pays du recul programmé :-)', 'positive', datetime.datetime(2017, 12, 27, 13, 38, 45), 'https://t.co/ck8Xfx2zXj'], ['pareil avec @orangetn https://t.co/q0ra9ibrxv', 'positive', datetime.datetime(2017, 12, 27, 13, 37, 43), 'https://t.co/R03RVUtuCy'], ['rt @orangetn: alors, y a-t-il un génie parmi nous? 😝🤓 https://t.co/rbaqy1zgkt', 'positive', datetime.datetime(2017, 12, 27, 13, 3, 54), 'https://t.co/R03RVUtuCy'], ['@orangetn 51911', 'positive', datetime.datetime(2017, 12, 27, 12, 34, 35), 'https://t.co/R03RVUtuCy'], ['rt @orangetn: yo 👊 \\nكانك تونسي و عليك الكلام إيجا ألعب super tounsi في جوْ %100 تونسي 🇹🇳😁\\nفيسع تلشرجي الـjeu من هوني 👇👇 \\nios: https://t.co/…', 'positive', datetime.datetime(2017, 12, 27, 11, 17, 14), 'https://t.co/RnfB3cxkXn'], ['@orangetn 51911', 'positive', datetime.datetime(2017, 12, 27, 10, 52, 38), 'https://t.co/7P1MlpUlxX'], [\"@orangetn 👍👍👍👍👍 c'est fait\", 'positive', datetime.datetime(2017, 12, 27, 10, 17, 32), 'https://t.co/Up92sM1Y36'], ['@orangetn 51911', 'positive', datetime.datetime(2017, 12, 27, 8, 53, 2), 'https://t.co/T02IQx7AQ4'], ['@orangetn 51911', 'positive', datetime.datetime(2017, 12, 27, 8, 10, 16), 'https://t.co/Yaj20l0riH'], ['@hethamw @orangetn @ooredootn @_tunisietelecom مهدي يريد . ايفون لجديد \\nمهدي يريد . ايفون اجديد', 'positive', datetime.datetime(2017, 12, 26, 22, 19, 25), 'https://t.co/NCNpJJP60g'], ['@mehdii_na @orangetn @ooredootn @_tunisietelecom iphone x mayfekou menna 7ad', 'positive', datetime.datetime(2017, 12, 26, 22, 18, 7), 'https://t.co/pdCW2Nty6K'], ['@hethamw @orangetn كادو راس العام واجب وطني و مسؤولية جماعية ، فبحيث @ooredootn و @_tunisietelecom مطالبين بضرورة ا… https://t.co/tgrgc0mm4l', 'positive', datetime.datetime(2017, 12, 26, 22, 17, 14), 'https://t.co/mWtIFRlygU'], ['@mehdii_na @orangetn ههههه كي السبة ...ارفع بيهم قضية', 'negative', datetime.datetime(2017, 12, 26, 22, 13, 10), 'https://t.co/Cu1iobQayY'], ['@hethamw @orangetn كلونا في كادوات بابا ناوال و عانا نستناو في كادوات راس العام ههههههههههه', 'positive', datetime.datetime(2017, 12, 26, 22, 12, 40), 'https://t.co/4cj9RWe7N5'], ['@mehdii_na @orangetn w9ayet tel men orange hhhhh', 'positive', datetime.datetime(2017, 12, 26, 22, 11, 23), 'https://t.co/rwsipCBrqQ'], ['@hethamw @orangetn oh oui , je confirme :p', 'positive', datetime.datetime(2017, 12, 26, 22, 10, 59), 'https://t.co/qGxJAL94ze'], ['@mehdii_na @orangetn genie sa7biii', 'positive', datetime.datetime(2017, 12, 26, 22, 9, 44), 'https://t.co/R03RVUtuCy'], ['rt @hamza02748190: @orangetn 51911', 'positive', datetime.datetime(2017, 12, 26, 21, 49, 51), 'https://t.co/R03RVUtuCy'], ['@orangetn 51911  #calculatrice #genie', 'positive', datetime.datetime(2017, 12, 26, 21, 31, 59), 'https://t.co/RfpNSP1jmA'], ['@orangetn 51911', 'positive', datetime.datetime(2017, 12, 26, 21, 23, 50), 'https://t.co/YU5EvZn5hf'], ['@orangetn 51911', 'positive', datetime.datetime(2017, 12, 26, 19, 15, 58), 'https://t.co/ck8Xfx2zXj'], ['@orangetn 51911', 'positive', datetime.datetime(2017, 12, 26, 19, 10, 56), 'https://t.co/R03RVUtuCy'], ['@orangetn 51911🇹🇳', 'positive', datetime.datetime(2017, 12, 26, 19, 6, 48), 'https://t.co/R03RVUtuCy'], ['@orangetn 51911', 'positive', datetime.datetime(2017, 12, 26, 19, 4, 58), 'https://t.co/R03RVUtuCy'], ['@orangetn une date approximative alors peut etre? :-)', 'positive', datetime.datetime(2017, 12, 26, 19, 0, 27), 'https://t.co/RnfB3cxkXn'], ['@orangetn ok ca je le savais! :-) ma question est «\\xa0quand\\xa0?\\xa0» sera t’il disponible.', 'positive', datetime.datetime(2017, 12, 26, 6, 58, 18), 'https://t.co/7P1MlpUlxX'], ['@orangetn  l’apple watch 3 «\\xa0cellular\\xa0» necessite que l’opérateur fournisse le service multi sim! comptez vous le faire? quand?', 'positive', datetime.datetime(2017, 12, 25, 18, 33, 44), 'https://t.co/Up92sM1Y36'], ['#tunisie services mobiles \\n la mauvais qualité des infrastructures mobiles 📶 toujours dispo chez\\n@ooredootn &amp;… https://t.co/ckwktznp7w', 'positive', datetime.datetime(2017, 12, 25, 7, 52, 22), 'https://t.co/T02IQx7AQ4'], ['rt @orangetn: أيا وينهم ال #gamers الصحاح يقوللنا كيفاش يحبوا يلعبوا؟ \\n#gaming https://t.co/lgzwkkv9bm', 'positive', datetime.datetime(2017, 12, 24, 21, 3, 52), 'https://t.co/Yaj20l0riH'], ['@orangetn playstation', 'positive', datetime.datetime(2017, 12, 24, 20, 16, 35), 'https://t.co/NCNpJJP60g']]\n"
     ]
    }
   ],
   "source": [
    "l1=[]\n",
    "for i in range(0,len(l0)):\n",
    "    l0[i].append(liste3[i])\n",
    "    l1.extend([l0[i]])\n",
    "print(l1)"
   ]
  },
  {
   "cell_type": "code",
   "execution_count": 134,
   "metadata": {},
   "outputs": [
    {
     "data": {
      "text/plain": [
       "95"
      ]
     },
     "execution_count": 134,
     "metadata": {},
     "output_type": "execute_result"
    }
   ],
   "source": [
    "l11=l1[:-130]\n",
    "len(l11)"
   ]
  },
  {
   "cell_type": "code",
   "execution_count": 145,
   "metadata": {
    "collapsed": true
   },
   "outputs": [],
   "source": [
    "with open(\"data1/tweets_category.csv\", \"w\", encoding='UTF-8') as f_write:\n",
    "    writer = csv.writer(f_write)\n",
    "    for row in l11:\n",
    "        writer.writerow(row)  "
   ]
  },
  {
   "cell_type": "code",
   "execution_count": 154,
   "metadata": {},
   "outputs": [
    {
     "data": {
      "text/plain": [
       "78"
      ]
     },
     "execution_count": 154,
     "metadata": {},
     "output_type": "execute_result"
    }
   ],
   "source": [
    "comments = []\n",
    "file=open(\"data/four-column.csv\",\"r\", encoding='UTF-8')\n",
    "test=csv.reader(file)\n",
    "for row in test:\n",
    "    if(row!=[]):\n",
    "        comments.append(row)\n",
    "#print(l)\n",
    "comments300 = comments[:-500]\n",
    "len(comments300)"
   ]
  },
  {
   "cell_type": "code",
   "execution_count": 160,
   "metadata": {},
   "outputs": [
    {
     "data": {
      "text/plain": [
       "0"
      ]
     },
     "execution_count": 160,
     "metadata": {},
     "output_type": "execute_result"
    }
   ],
   "source": [
    "tweetsp = []\n",
    "file2=open(\"data1/tweets_category.csv\",\"r\", encoding='UTF-8')\n",
    "test2=csv.reader(file2)\n",
    "for row in test2:\n",
    "    if(row!=[]):\n",
    "        tweetsp.append(row)\n",
    "#print(l)\n",
    "tweets200 = tweetsp[:-100]\n",
    "len(tweets200)"
   ]
  },
  {
   "cell_type": "code",
   "execution_count": 150,
   "metadata": {
    "collapsed": true
   },
   "outputs": [],
   "source": [
    "maliste = comments.extend(tweetsp)"
   ]
  },
  {
   "cell_type": "code",
   "execution_count": 151,
   "metadata": {},
   "outputs": [
    {
     "data": {
      "text/plain": [
       "673"
      ]
     },
     "execution_count": 151,
     "metadata": {},
     "output_type": "execute_result"
    }
   ],
   "source": [
    "len(comments)"
   ]
  },
  {
   "cell_type": "code",
   "execution_count": 144,
   "metadata": {
    "collapsed": true
   },
   "outputs": [],
   "source": [
    "with open(\"four-column.csv\", \"w\", encoding='UTF-8') as f_write:\n",
    "    writer = csv.writer(f_write)\n",
    "    for row in comments:\n",
    "        writer.writerow(row) "
   ]
  },
  {
   "cell_type": "code",
   "execution_count": null,
   "metadata": {
    "collapsed": true
   },
   "outputs": [],
   "source": []
  }
 ],
 "metadata": {
  "kernelspec": {
   "display_name": "Python 3",
   "language": "python",
   "name": "python3"
  },
  "language_info": {
   "codemirror_mode": {
    "name": "ipython",
    "version": 3
   },
   "file_extension": ".py",
   "mimetype": "text/x-python",
   "name": "python",
   "nbconvert_exporter": "python",
   "pygments_lexer": "ipython3",
   "version": "3.6.3"
  }
 },
 "nbformat": 4,
 "nbformat_minor": 2
}
